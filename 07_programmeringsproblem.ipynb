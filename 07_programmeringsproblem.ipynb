{
 "cells": [
  {
   "cell_type": "markdown",
   "id": "29eed99d-fc5f-4d53-a44f-c24e5e8421f7",
   "metadata": {},
   "source": [
    "# Programmeringsproblem"
   ]
  },
  {
   "cell_type": "markdown",
   "id": "69eb942f-967d-40f5-a6ff-a1358451598e",
   "metadata": {},
   "source": [
    "Den här sidan innehåller några problem där du kan träna på dina nya Python-färdigheter.\n",
    "Problemen är frivilliga att göra,\n",
    "och kanske kan hjälpa dig senare med inlämningsuppgiften."
   ]
  },
  {
   "cell_type": "markdown",
   "id": "00e9942b-534c-4dce-aef3-fa7484ecb620",
   "metadata": {},
   "source": [
    "## Problemlösning\n",
    "\n",
    "Många programmeringsproblem är komplexa,\n",
    "och det är sällan man kan sitta ner och lösa problemen direkt i ett svep.\n",
    "Istället brukar man jobba iterativt.\n",
    "Exakt hur man gör det är individuellt,\n",
    "men involverar ofta några av följande steg (ingen särskild ordning):\n",
    "\n",
    "- Förenkla problemet genom att dela upp det i mindre delproblem.\n",
    "- Hitta på enklare konkreta exempel och lös problemet för exemplerna innan man kommer på en generell lösning.\n",
    "- Sök efter lösningar online.\n",
    "- Läs dokumentation för att förstå hur t.ex. olika funktioner fungerar.\n",
    "- Dokumentation är ofta skriva för att vara kompletta,\n",
    "  och kan bland vara väldigt kompakta.\n",
    "  Det kan därför hjälpa att hitta specifika kodexempel.\n",
    "- Testa att använda t.ex. funktioner interaktivt med enkla exempel för att förstå hur de fungerar.\n",
    "\n",
    "Den sista punkten är en av Pythons starka sida,\n",
    "då det är mycket lätt att jobba med kod interaktivt och testa sig fram, t.ex. i gränssnitt som Jupyter Notebook som du jobbar i nu.\n",
    "\n",
    "När du jobbar med inlämningsuppgiften är det mycket viktigt att du testar dig fram.\n",
    "Det betyder att du ibland kommer behöva skriva kod som inte är direkt relevant för att lösa uppgiften,\n",
    "men som kan hjälpa dig att t.ex. förstå hur en funktion fungerar.\n",
    "Ett tips är att skapa separata kod-celler för att testa kod, och dokumentera dessa tydligt med `# kommentarer` för att du ska förstå vad de är till för,\n",
    "även om du skulle titta på notebooken igen om några år.\n",
    "\n",
    "I den här notebooken finner du några kortare problem där du kan öva på problemlösning.\n",
    "Problemen är utformade för att även hjälpa dig med inlämningsuppgiften."
   ]
  },
  {
   "cell_type": "markdown",
   "id": "615d2369-f250-4c6b-85b4-deeb147bcb84",
   "metadata": {},
   "source": [
    "### Konkret exempel på problemlösning\n",
    "\n",
    "Anta att vi får problemet:\n",
    "\n",
    "<div class=\"alert alert-block alert-success\">\n",
    "    <b>Uppgift:</b>\n",
    "    Skriv en funktion som tar en endimensionell array <tt>vector</tt>.\n",
    "    Funktionen ska hitta det största värdet i <tt>vector</tt>\n",
    "    och returnera en kopia på <tt>vector</tt> där alla värden innan maxvärdet har satts till 0. \n",
    "</div>\n",
    "\n",
    "Hur löser vi detta?\n",
    "Här är ett exempel på *en* arbetsgång.\n",
    "Ditt arbetssätt är kanske annorlunda.\n",
    "\n",
    "1\\. Innan vi gör en generell funktion som löser problemet kan det vara bra att ha jobbat igenom det med ett specifikt exempel först.\n",
    "Så vi kommer först på ett enkelt exempel där vi enkelt kan se svaret, t.ex."
   ]
  },
  {
   "cell_type": "code",
   "execution_count": null,
   "id": "868f9459-9f49-4d29-bccd-31e9ff659fbf",
   "metadata": {},
   "outputs": [],
   "source": [
    "import numpy as np\n",
    "\n",
    "a = np.array([1, 3, 8, 3, -10, 3, 20, 3, 8, 7])"
   ]
  },
  {
   "cell_type": "markdown",
   "id": "27c0b022-acf9-4e3d-86c7-f6feeff1f7af",
   "metadata": {},
   "source": [
    "För det här specifika exemplet vet vi att funktionenen borde returnera:\n",
    "\n",
    "```python\n",
    "[0, 0, 0, 0, 0, 0, 20, 3, 8, 7]\n",
    "```\n",
    "\n",
    "Nu har vi ett specifikt mål, men hur skriver vi kod för att uppnå det?\n",
    "\n",
    "2\\. Försök dela upp problemet i mindre delproblem.\n",
    "\n",
    "För att lösa problemet behöver vi hitta indexet för det största värdet i en NumPy array.\n",
    "Behöver vi skriva kod för detta, eller finns det kanske redan en funktion i NumPy som kan hjälpa oss?\n",
    "Låt oss se om vi kan hitta något, t.ex. genom att googla: [numpy index max value](https://www.google.com/search?q=numpy+index+max+value).\n",
    "Här är två av toppresultaten:\n",
    "\n",
    "- [numpy.argmax — NumPy v1.26 Manual](https://numpy.org/doc/stable/reference/generated/numpy.argmax.html)\n",
    "- [How to get the index of a maximum element in a NumPy ...](https://stackoverflow.com/questions/5469286/how-to-get-the-index-of-a-maximum-element-in-a-numpy-array-along-one-axis)\n",
    "\n",
    "Funktionen `numpy.argmax` verkar lovande. Men hur använder vi den?\n",
    "\n",
    "3\\. [Dokumentationen för `numpy.argmax`](https://numpy.org/doc/stable/reference/generated/numpy.argmax.html) är som tur är inte jättelång, och den innehåller även exempel i slutet. Vi kan testa funktionen på vårt exempel:"
   ]
  },
  {
   "cell_type": "code",
   "execution_count": null,
   "id": "14cf2fba-b240-41e2-850e-39ce0e06e744",
   "metadata": {},
   "outputs": [],
   "source": [
    "np.argmax(a)"
   ]
  },
  {
   "cell_type": "markdown",
   "id": "f0612645-c17f-42c1-89ba-614d14c9c2e4",
   "metadata": {},
   "source": [
    "Det verkar ge oss vad vi förväntar oss (kom ihåg att Python är indexerat från 0). Vi kan dubbelkolla:"
   ]
  },
  {
   "cell_type": "code",
   "execution_count": null,
   "id": "e131e415-d8c4-43ca-ac22-5892ad0da676",
   "metadata": {},
   "outputs": [],
   "source": [
    "i_max = np.argmax(a)\n",
    "a[0:i_max]"
   ]
  },
  {
   "cell_type": "markdown",
   "id": "f8df76a8-d7c6-4c55-94bd-2090b08b370f",
   "metadata": {},
   "source": [
    "Japp, det är de här elementen vi vill sätta till 0. Detta kan göras med:"
   ]
  },
  {
   "cell_type": "code",
   "execution_count": null,
   "id": "eca0db1f-f761-491b-a527-fba5d2ff7528",
   "metadata": {},
   "outputs": [],
   "source": [
    "a[0:i_max] = 0\n",
    "a"
   ]
  },
  {
   "cell_type": "markdown",
   "id": "1de44997-87aa-49aa-afaf-12f82dea3b27",
   "metadata": {},
   "source": [
    "<div class=\"alert alert-block alert-info\">\n",
    "    <b>Tips:</b>\n",
    "    Eftersom det är så vanligt att \"slica\" från första elementet behöver man inte ange 0 som startindex i Python.\n",
    "    Koden ovan kan också skrivas som: <tt>a[:imax]</tt> (testa och se!).\n",
    "    Om man inte anger slutindex så kommer slicen istället innehålla värden fram till och inklusive sista elementet:\n",
    "    <tt>a[imax:]</tt> (medan <tt>a[imax:-1]</tt> <i>inte</i> inkluderar sista elementet).\n",
    "</div>"
   ]
  },
  {
   "cell_type": "markdown",
   "id": "28e7a949-a28a-4aa3-81ce-98208f07597d",
   "metadata": {},
   "source": [
    "Det här verkar fungera som förväntat.\n",
    "Vi kan nu skriva om den här koden som en funktion:"
   ]
  },
  {
   "cell_type": "code",
   "execution_count": null,
   "id": "84a14023-6871-4321-916e-355025771d99",
   "metadata": {},
   "outputs": [],
   "source": [
    "def set_to_zero_before_max(vector):\n",
    "    i_max = np.argmax(vector)\n",
    "    copy = vector\n",
    "    copy[0:i_max] = 0\n",
    "    return copy"
   ]
  },
  {
   "cell_type": "markdown",
   "id": "dd0672ef-d461-4883-b90f-f9f01582205f",
   "metadata": {},
   "source": [
    "Vi testar funktionen, t.ex. med vårt tidigare exempel (vi måste definera om `a` eftersom vi ändrade på vektorn tidigare):"
   ]
  },
  {
   "cell_type": "code",
   "execution_count": null,
   "id": "fb89c72b-9adb-4458-bd29-bd3cec986a8d",
   "metadata": {},
   "outputs": [],
   "source": [
    "a = np.array([1, 3, 8, 3, -10, 3, 20, 3, 8, 7])\n",
    "b = set_to_zero_before_max(a)\n",
    "b"
   ]
  },
  {
   "cell_type": "markdown",
   "id": "297fd965-1243-41de-a2f9-6a37646f33ab",
   "metadata": {},
   "source": [
    "Funktionen verkar ge rätt svar.\n",
    "För att försäkra oss om detta kan vi testa med några fler exempel.\n",
    "Slutligen dubbelkollar vi att funktionen inte gör något oväntat, t.ex. ändrar vår input-variabel:"
   ]
  },
  {
   "cell_type": "code",
   "execution_count": null,
   "id": "8314ff90-4289-4d0e-88f4-f3d1695734b8",
   "metadata": {},
   "outputs": [],
   "source": [
    "a"
   ]
  },
  {
   "cell_type": "markdown",
   "id": "c62d9542-e279-411b-bbb4-bb37660a9892",
   "metadata": {},
   "source": [
    "Oj, det verkar som `a` också ändrades, även om vi ändrade `copy` i funktionen!\n",
    "Hur kommer detta sig?\n",
    "Vi försöker hitta svaret på nätet igen, t.ex. genom att googla: [numpy array why values changed copy](https://www.google.com/search?q=numpy+array+why+values+changed+copy).\n",
    "\n",
    "(Exakt hur man söker effektivt kommer med erfarenhet.)\n",
    "\n",
    "Två av toppresultaten:\n",
    "\n",
    "- [Why original numpy array gets updated after updating of its ...](https://stackoverflow.com/questions/36106826/why-original-numpy-array-gets-updated-after-updating-of-its-copy)\n",
    "- [Copies and views — NumPy v1.26 Manual](https://numpy.org/doc/stable/user/basics.copies.html)\n",
    "\n",
    "Båda sidorna säger att vi kan använda `copy`-metoden för att skapa en kopia av en array.\n",
    "Vi testar att modifiera vår funktion:"
   ]
  },
  {
   "cell_type": "code",
   "execution_count": null,
   "id": "5f84c533-56af-42f7-8529-ebeb287177d8",
   "metadata": {},
   "outputs": [],
   "source": [
    "def set_to_zero_before_max(vector):\n",
    "    i_max = np.argmax(vector)\n",
    "    copy = vector.copy()\n",
    "    copy[0:i_max] = 0\n",
    "    return copy"
   ]
  },
  {
   "cell_type": "code",
   "execution_count": null,
   "id": "d1879299-305f-4f36-9506-d38ef413b749",
   "metadata": {},
   "outputs": [],
   "source": [
    "a = np.array([1, 3, 8, 3, -10, 3, 20, 3, 8, 7])  # måste definera om igen\n",
    "b = set_to_zero_before_max(a)\n",
    "print(\"b = \", b)\n",
    "print(\"a = \", a)"
   ]
  },
  {
   "cell_type": "markdown",
   "id": "6c5ae511-f9bb-4d4b-ab8f-9da11474bb3a",
   "metadata": {},
   "source": [
    "Nu får vi ett rätt svar utan att ha ändrat på vår orginalvektor.\n",
    "Problemet är löst!"
   ]
  },
  {
   "cell_type": "markdown",
   "id": "8db25f6e-db72-41a6-82c7-8c6660b98ab9",
   "metadata": {},
   "source": [
    "## Programmeringsproblem att lösa\n",
    "\n",
    "Testa att lösa problemen nedan för att träna på Python och problemlösning.\n",
    "Skapa så många kodceller som du behöver."
   ]
  },
  {
   "cell_type": "markdown",
   "id": "4e2f574b-1ef8-4be8-8d12-c0f1989fc6be",
   "metadata": {},
   "source": [
    "### Problem 1: Plotta funktioner\n",
    "\n",
    "Plotta följande funktioner för $x$ mellan $0$ och $2\\pi$ i samma figur:\n",
    "\n",
    "- $f(x) = 1$\n",
    "- $f(x) = 2x$\n",
    "- $f(x) = \\sin(x)$\n",
    "\n",
    "Får du rätt värden på x-axeln?\n",
    "Kan du begränsa kurvorna till det angivna intervallet utan att använda t.ex. `xlim`/`set_xlim`?"
   ]
  },
  {
   "cell_type": "markdown",
   "id": "47b7ec64-db4e-4d7d-b8b9-bceffaa520a4",
   "metadata": {},
   "source": [
    "### Problem 2: Vad visar egentligen ett linjediagram?\n",
    "\n",
    "När du gjorde [Problem 1](#Problem-1:-Plotta-funktioner) skapade du förmodligen först en `x`-vektor med alla x-värden,\n",
    "t.ex. med `np.linspace` eller `np.arange`.\n",
    "Testa att minska antalet element i x-vektorn (och motsvarande y-vektor) och se hur det påverkar plottarna.\n",
    "Hur ser det ut t.ex. om du bara har 10 element?\n",
    "Vilken kurva påverkas mest?\n",
    "\n",
    "Ett tips är att ange `'o-'` (notera att `''` också ska vara med) som tredje argument till `plot`\n",
    "för att plotta en ifylld cirkel vid varje datapunkt.\n",
    "\n",
    "<div class=\"alert alert-block alert-info\">\n",
    "    <details>\n",
    "        <summary><em>Slutsats:</em></summary>\n",
    "        Det här visar att <tt>plot</tt> t.ex. inte vet vad sinus är,\n",
    "        utan funktionen ritar helt enkelt raka streck mellan punkterna (koordinaterna) som anges som x och y-värden.\n",
    "        Tricket är att avståndet mellan punkterna ofta är så små att kurvorna ser ut att svänga \"mjukt\".\n",
    "    </details>\n",
    "</div>\n"
   ]
  },
  {
   "cell_type": "markdown",
   "id": "20a27be1-8018-4aa4-b62a-692be2fd2bbe",
   "metadata": {},
   "source": [
    "### Problem 3: Plotta tvådimensionella matriser\n",
    "\n",
    "Matplotlib kan även visualisera tvådimensionella matriser.\n",
    "Här är ett exempel,\n",
    "där varje rad är en sinus-kurva som förskjuts för varje ny rad."
   ]
  },
  {
   "cell_type": "code",
   "execution_count": null,
   "id": "5a8279a7-151c-420e-98ca-bccbb16a4aa7",
   "metadata": {},
   "outputs": [],
   "source": [
    "# Skapa en tvådimensionell datamatris\n",
    "import numpy as np\n",
    "\n",
    "x = np.linspace(0, 2*np.pi, 1000)\n",
    "phi = np.arange(10)\n",
    "\n",
    "# Först skapar vi en \"tom\" matris\n",
    "data = np.zeros((phi.size, x.size))\n",
    "\n",
    "# Nu fyller vi i \"data\" med värden:\n",
    "for i, shift in enumerate(phi):\n",
    "    y = np.sin(x + 0.1*shift)\n",
    "    data[i, :] = y"
   ]
  },
  {
   "cell_type": "markdown",
   "id": "8b7389fe-7536-451e-bf7e-45812a7292ec",
   "metadata": {},
   "source": [
    "Vi kan t.ex. plotta varje element i matrisen med `plt.pcolormesh`:"
   ]
  },
  {
   "cell_type": "code",
   "execution_count": null,
   "id": "63d2ba86-4a03-45b4-84b6-889b58c58b3c",
   "metadata": {},
   "outputs": [],
   "source": [
    "import matplotlib.pyplot as plt\n",
    "\n",
    "fig, ax = plt.subplots()\n",
    "ax.pcolormesh(x, phi, data)\n",
    "ax.set_xlabel(\"x\")\n",
    "ax.set_ylabel(\"phi\")"
   ]
  },
  {
   "cell_type": "markdown",
   "id": "76194a22-e90b-49b5-aecb-a5f7bdbace5a",
   "metadata": {},
   "source": [
    "Testa att plotta en rad i `data`.\n",
    "Motsvarar resultatet vad du förväntar dig?\n",
    "\n",
    "Plotta nu en kolumn i `data` istället.\n",
    "Varför ser plotten ut på det här sättet?\n",
    "Kan du förstå det från `pcolormesh`-plotten ovan?"
   ]
  },
  {
   "cell_type": "markdown",
   "id": "1c960ce7-941f-46cd-94a0-292842b26b03",
   "metadata": {},
   "source": [
    "### Problem 4: Numerisk integration med trapz\n",
    "\n",
    "Försök förstå hur man kan integrera med `trapz`-funktionen i NumPy,\n",
    "t.ex. genom att integrera enklare funktioner där du vet vad integralvärdet ska vara:\n",
    "\n",
    "- $y = 1$ för $x$ mellan $0$ och $2$.\n",
    "- $y = 2x$ för $x$ mellan $0$ och $5$.\n",
    "- $y = \\sin(x)$ för $x$ mellan $0$ och $\\pi$.\n",
    "\n",
    "Kontrollera att resultaten stämmer!\n",
    "\n",
    "**Tips:**\n",
    "\n",
    "- Hur sätter man gränserna i integralen? Kom ihåg att `np.trapz` approximerar integralen med trapetser\n",
    "  ([\"trapezoidal rule\"](https://en.wikipedia.org/wiki/Trapezoidal_rule) som nämns i dokumentationen).\n",
    "  Med andra ord vet funktionen ingenting om matematiska funktioner, utan förväntar sig att du ger den koordinater för kanterna på trapetsern som den ska beräkna integralen över.\n",
    "- Fortfarande oklart? Du kan testa att först plotta funktionerna med `plt.plot` mellan de angivna x-värdena\n",
    "  (använd inte `ax.set_xlim`, utan försök begränsa kurvorna på annat sätt).\n",
    "  `np.trapz` förväntar sig liknande argument som du gav `plt.plot`\n",
    "  (men kanske i en annan ordning - kolla dokumentationen!).\n",
    "- Vad gör argumenten `x` och `dx` i `np.trapz`? Vad händer om du inte anger dem? Testa!\n",
    "  Vad behöver du göra för att integralerna ska bli rätt?"
   ]
  },
  {
   "cell_type": "markdown",
   "id": "2a3c6d51-793f-4f12-a4d1-46e5e40a5e25",
   "metadata": {},
   "source": [
    "### Problem 2: Vektoriserad integration med trapz\n",
    "\n",
    "Ibland behöver man integrera över många funktioner, vilket kan göras med en loop.\n",
    "Anta t.ex. att du har värdena för $\\sin(kx)$ för $x$ mellan $0$ och $100$, och $k$ mellan $1$ och $50000$ i inkrement av $1$:"
   ]
  },
  {
   "cell_type": "code",
   "execution_count": null,
   "id": "205ae89c-ad2c-4efe-8848-c928cac3adbc",
   "metadata": {},
   "outputs": [],
   "source": [
    "# Den här cellen tar en liten stund att köra\n",
    "dx = 0.01\n",
    "x = np.arange(0, 100+dx, dx)\n",
    "k_all = np.arange(1, 50000+1)\n",
    "\n",
    "# Gör först en tom array för att spara y-värdena\n",
    "y = np.zeros((k_all.size, x.size))\n",
    "\n",
    "# enumerate är en inbyggd funktion som kan göra koden mer \"rent\" och \"Pythonic\".\n",
    "# Läs dokumentationen för att förstå hur enumerate fungerar.\n",
    "\n",
    "for index, k in enumerate(k_all):\n",
    "    y[index] = np.sin(k*x)"
   ]
  },
  {
   "cell_type": "markdown",
   "id": "addfaf2d-7353-441b-a9b7-58bdd0c181d2",
   "metadata": {},
   "source": [
    "Nu vill vi integrera över alla $\\sin$-funktioner. Vi kan göra det i en loop:"
   ]
  },
  {
   "cell_type": "code",
   "execution_count": null,
   "id": "736dbf60-ad2f-415f-8938-e73bd5055916",
   "metadata": {},
   "outputs": [],
   "source": [
    "%%time\n",
    "\n",
    "# Gör en tom array för att spara resultaten\n",
    "results = np.zeros(k_all.size)\n",
    "\n",
    "for index, k in enumerate(k_all):\n",
    "    results[index] = np.trapz(y[index], x)"
   ]
  },
  {
   "cell_type": "markdown",
   "id": "73328133-ab24-45e3-87ee-98d68a97c97f",
   "metadata": {},
   "source": [
    "Det här tar också en liten stund.\n",
    "Vi kan göra det snabbare genom att använda "
   ]
  },
  {
   "cell_type": "code",
   "execution_count": null,
   "id": "ce9fe455-f23f-4490-90ca-862f85b9f42d",
   "metadata": {},
   "outputs": [],
   "source": [
    "%%time\n",
    "results2 = np.trapz(y, x)"
   ]
  },
  {
   "cell_type": "markdown",
   "id": "a6112c23-aa23-452c-86f4-4ec7a384f462",
   "metadata": {},
   "source": [
    "### Problem 3: Manipulera array\n",
    "\n",
    "Gör en funktion som tar en endimensionell array (`vector`) och ett nummer (`value`, en `float`) som argument.\n",
    "Funktionen ska returnera en kopia på `vector` där alla element före *och inklusive* minimum-värdet i arrayen ökas med `value`\n",
    "(d.v.s., lägg till `value` till alla element före och inklusive minimum-värdet, men inte i elementen därefter)."
   ]
  },
  {
   "cell_type": "markdown",
   "id": "bcecc002-4ad1-4e9c-b640-0357b75c9485",
   "metadata": {},
   "source": [
    "## Nästa steg\n",
    "\n",
    "Nu är du klar med övningen som introducerar Python.\n",
    "Om du känner att du förstod det mesta, kan du gå vidare med Inlämning 2.\n",
    "Annars kan du bläddra tillbaka och titta på föregående sidor,\n",
    "samt ställa frågor i diskussionstråden under Inlämningar på kursens startsida i Canvas.\n",
    "\n",
    "<div style=\"width: 100%;\">\n",
    "    <div style=\"text-align: center\"> \n",
    "        <a href=\"08_uppgift_2_olr.ipynb\">Öppna Inlämningsuppgift 2: OLR</a>\n",
    "    </div>\n",
    "</div>\n",
    "\n",
    "<div style=\"width: 100%;\">\n",
    "    <div style=\"float: left\"> \n",
    "        <a href=\"07_matplotlib.ipynb\">« Föregående (Matplotlib)</a>\n",
    "    </div>\n",
    "</div>"
   ]
  }
 ],
 "metadata": {
  "kernelspec": {
   "display_name": "Python 3 (ipykernel)",
   "language": "python",
   "name": "python3"
  },
  "language_info": {
   "codemirror_mode": {
    "name": "ipython",
    "version": 3
   },
   "file_extension": ".py",
   "mimetype": "text/x-python",
   "name": "python",
   "nbconvert_exporter": "python",
   "pygments_lexer": "ipython3",
   "version": "3.11.8"
  }
 },
 "nbformat": 4,
 "nbformat_minor": 5
}
