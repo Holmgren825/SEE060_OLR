{
 "cells": [
  {
   "cell_type": "markdown",
   "id": "b573c2b8-14d3-4d37-b142-524b86e9d9c2",
   "metadata": {},
   "source": [
    "# Inlämningsuppgift 2: Utgående långvågig strålning (OLR)\n",
    "\n",
    "Den här uppgiften genomförs och lämnas in individuellt, men ni får gärna diskutera och hjälpa varandra. Inlämningen sker via Canvas, under Startsida $\\rightarrow$ Inlämningar $\\rightarrow$ Inlämning 2: Utgående långvågig strålning.\n",
    "\n",
    "## Mål\n",
    "I denna uppgift ska du simulera utgående långvågig strålning och hur denna påverkas av förändringar i koncentrationen av några gaser och temperaturprofilen.\n",
    "Tanken med uppgiften är att illustrera mer exakt varför stigande halter av dessa så kallade växthusgaser är problematisk, d.v.s. i detalj visa hur gaserna påverkar jordens kylmekanism.\n",
    "På engelska kallas den utgående strålningen OLR (outgoing longwave radiation) och den termen används även här för enkelhets skull.\n",
    "\n",
    "Uppgiften är utformad för att träna er i att utföra beräkningar i Python.\n",
    "Speciellt ger uppgiften träning i att numeriskt integrera funktioner. Detta gör du enklast med NumPy-funktionen `trapz`.\n",
    "Läs dokumentationen för `trapz` så ni vet hur den fungerar.\n",
    "Uppgiften ger också träning i att hantera data som har flera dimensioner och hur sådant data kan representeras som tvådimensionella fält (matriser, eller mer generellt i NumPy, arrayer).\n",
    "Det senare är en tillämpning av det ni har lärt er i Linjär algebra.\n",
    "\n",
    "## Avgränsningar\n",
    "Simuleringarna är ytterst detaljerade när det gäller gasernas absorptionsspektra.\n",
    "Men för att göra problemet hanterbart så bortser vi ifrån moln.\n",
    "Vi antar även att marken agerar som en svart kropp och att atmosfären inte har någon horisontell variation (båda är goda approximationer).\n",
    "Datan som du får täcker höjder upp till 20 km och representerar tropiska förhållande med förindustriella gasmängder.\n",
    "\n",
    "## Teori\n",
    "Fysikaliskt sett är OLR jorden emittans, $E$ (enhet: Wm$^{-2}$).\n",
    "Det går ej att beräkna emittansen direkt, utan den fås genom att integrera den spektrala emittansen, $E_s$ (enhet: Wm$^{-2}$Hz$^{-1}$), över alla frekvenser ($v$): \n",
    "$$\n",
    "E = \\int_{v=0}^\\infty E_s(v)dv,\n",
    "\\tag{1}\n",
    "$$\n",
    "\n",
    "Även $E_s$ är ett integrerat värde.\n",
    "Vanligtvis behöver man integrera den utgående spektrala radiansen, $I$ (enhet: Wm$^{-2}$Hz$^{-1}$sr$^{-1}$, där sr står för steradian), över zenitvinkeln $\\theta$ och azimutvinkeln $\\phi$:\n",
    "$$\n",
    "E_s(v) = \\int_{\\phi=0}^{2\\pi} \\int_{\\theta=0}^{\\pi / 2} I(v, \\theta, \\phi)\\cos(\\theta)\\sin(\\theta)d\\theta d\\phi\n",
    "\\tag{2} \n",
    "$$\n",
    "\n",
    "De båda vinklarna illustreras i Figur 1.\n",
    "\n",
    "<figure>\n",
    "   <img src=\"./media/zenith-azimuth-schematic.svg\" width=600>\n",
    "    <figcaption>\n",
    "        <b>Figur 1: </b>Illustration av zenit- och azimutvinkel för utgående strålning (OLR).\n",
    "    </figcaption>\n",
    "</figure>"
   ]
  },
  {
   "cell_type": "markdown",
   "id": "ebbc6a74-faba-440b-a571-270390d780ba",
   "metadata": {},
   "source": [
    "Ekvation (2) är en dubbelintegral, men låt inte det skrämma er!\n",
    "För de förhållanden som beskrivits under [Avgränsningar](#Avgränsningar) (atmosfären har inte någon horisontell variation) så beror inte $I$ på azimuthvinkeln $\\phi$, och uttrycket kan då förenklas som\n",
    "\n",
    "$$\n",
    "E_s(v) = \\int_{\\phi=0}^{2\\pi} d\\phi \\cdot \\int_{\\theta=0} ^{\\pi / 2} I(v, \\theta) \\cos(\\theta) \\sin(\\theta) d\\theta,\n",
    "\\tag{3}\n",
    "$$\n",
    "\n",
    "alltså en multiplikation av två integraler.\n",
    "Den första integralen kan lösas analytiskt och är bara ett konstant tal (låt oss kalla det $C$ för enkelhets skull).\n",
    "Så börja med att lösa följande integral analytiskt:\n",
    "$$\n",
    "C = \\int_{\\phi = 0}^{2\\pi} d\\phi = ?\n",
    "\\tag{4}\n",
    "$$"
   ]
  },
  {
   "cell_type": "markdown",
   "id": "2108cb99-a753-4e3c-9183-812de77bbfba",
   "metadata": {},
   "source": [
    "Uppgiften är nu alltså att räkna ut\n",
    "$$\n",
    "E_s(v) = C \\cdot \\int_{\\theta=0}^{\\pi/2} I(v, \\theta)\\cos(\\theta)\\sin(\\theta) d\\theta.\n",
    "\\tag{5}\n",
    "$$\n",
    "\n",
    "Vi går inte in på hur $I(v, \\theta)$ beräknas, utan du får en färdig funktion som räknar ut $I$ för alla frekvenser för ett angivet värde på $\\theta$.\n",
    "Integralen i Ekvation (5) löser vi numeriskt med NumPy-funktionen `trapz`.\n",
    "\n",
    "Nedan kommer du få i uppgift att beräkna spektrala emittanser $E_s$ och totala emittanser $E$."
   ]
  },
  {
   "cell_type": "markdown",
   "id": "ac99f665-8c19-4a50-8e1d-b1e6645c5a8a",
   "metadata": {},
   "source": [
    "## Frekvens och vågtal\n",
    "I figurer med strålning är det vanligt att frekvensen anges som “vågtal”, med enhet cm$^{−1}$.\n",
    "Detta vågtal är $1/\\lambda$ där $\\lambda$ är våglängden i cm.\n",
    "Denna enhet kallas också för Kayser ([https: //en.wikipedia.org/wiki/Wavenumber](https://en.wikipedia.org/wiki/Wavenumber)).\n",
    "Som exempel så visas Planckfunktionen som en funktion av vågtal i Figur 2.\n",
    "\n",
    "<figure>\n",
    "    <img src=\"./media/planck.png\" width=600>\n",
    "    <figcaption>\n",
    "        <b>Figur 2: </b>Planck-kurvorna för två olika temperaturer som funktion av vågtal.\n",
    "    </figcaption>\n",
    "</figure>"
   ]
  },
  {
   "cell_type": "markdown",
   "id": "92352a82-a06f-4fe8-9497-b60925501afe",
   "metadata": {},
   "source": [
    "## Arbetsgång\n",
    "<div class=\"alert alert-block alert-info\">\n",
    "<b>Om du inte använt Python innan rekommenderar vi att du arbetar igenom <a href=\"01_introduktion.ipynb\">Introduktion till Python</a> först!</b>\n",
    "</div>\n",
    "\n",
    "- Bestäm om du ska fortsätta jobba på MyBinder eller installera Python och JupyterLab på din egen dator. Se [Installera Python på din dator](#Installera-Python-på-din-dator) för mer information.\n",
    "- Gå igenom [Praktiska instruktioner](#Praktiska-instruktioner).\n",
    "- Svara på [Frågorna](#Frågor).\n",
    "\n",
    "<div class=\"alert alert-block alert-warning\">\n",
    "<b>Varning: </b>I fallet att du följt länken på Canvas körs den här notebooken på något som heter <a href=https://mybinder.org/>MyBinder</a>, vilket innebär att JupyterLab körs på en server någonstans i molnet. Det är väldigt smidigt för att komma igång med Python och Jupyter, men <b>ingenting sparas</b> och programmet stängs av efter en stunds inaktivitet.\n",
    "Alltså måste du ladda ner filerna till din egen dator för att spara dem (högerklicka på filen du vill spara i filhanteraren -> Download).\n",
    "Du måste sedan ladda upp filen igen (genom att klicka på knappen som ser ut som en uppåtpil i filhanteraren) när du startar en ny session.\n",
    "</div>"
   ]
  },
  {
   "cell_type": "markdown",
   "id": "55be93b7-42d2-461e-91d6-b896caa37411",
   "metadata": {},
   "source": [
    "## Installera Python på din dator\n",
    "\n",
    "För att minska risken att förlora arbete rekommenderar vi att du installerar Python och JupyterLab på din egen dator.\n",
    "Om du inte vet hur, så rekommenderar vi [Anaconda](https://www.anaconda.com/download).\n",
    "Se till att följande bibliotek är installerade (under Environments):\n",
    "\n",
    "- numpy\n",
    "- matplotlib\n",
    "- jupyterlab"
   ]
  },
  {
   "cell_type": "markdown",
   "id": "81c4d1e4-a2f4-4719-a125-253259190d30",
   "metadata": {},
   "source": [
    "## Jobba med inlämningsuppgiften på din dator\n",
    "\n",
    "Efter att ha installerat Anaconda, öppna programmet.\n",
    "Starta sedan JupyterLab från Home och välj Python 3 (ipykernel) under Notebook.\n",
    "\n",
    "Du kan ladda ner inlämningsuppgiften som en zip här:\n",
    "https://github.com/hanschen/SEE060_OLR/archive/refs/heads/main.zip\n",
    "\n",
    "Packa upp zipfilen på ett lämpligt ställe, och öppna sedan `07_uppgift_2_olr.ipynb` i JupyterLab via filhanteraren till vänster."
   ]
  },
  {
   "cell_type": "markdown",
   "id": "64e444e8-839f-48a1-9fdd-27587dad3732",
   "metadata": {},
   "source": [
    "## Kod och data\n",
    "Funktioner för att beräkna radians finns i modulen `olr.py` i mappen `Kod`.\n",
    "Datan kommer i två varianter under `Data`, där filerna heter `olr_data.npz` och `olr_data large.npz`.\n",
    "Båda dessa filer innehåller följande variabler:\n",
    "\n",
    "| | | |\n",
    "|-|-|-|\n",
    "| **f**    |Frekvenser [Hz]               |En vektor (endimensionell array). | \n",
    "| **wn**   |Vågtal [1/cm]                 |En vektor, samma längd som f. | \n",
    "| **z**    |Höjder [m]                    |En vektor. | \n",
    "| **p**    |Atmosfäriskt tryck [Pa]       |En vektor, samma längd som z. |\n",
    "| **t**    |Atmosfäriskt temperatur [K]   |En vektor, samma längd som z. |\n",
    "| **vmr**  |Volymandelar [-]              |En matris med dimensioner (gas, z). Inkluderade gaser, i ordning, är:<br>H$_2$O, CO$_2$, O$_3$, CH$_4$ och N$_2$O. |\n",
    "| **xsec**  |Absorptionstvärsnitt [m$^2$] |En array med dimensioner (gas, f, z). Denna variabel kommer ni inte<br>använda direkt, den används av funktioner som beräknar radians. |\n",
    "\n",
    "Använd först och främst `olr_data.npz`, som innehåller data för 3500 frekvenser.\n",
    "Om du är nyfiken och vill se resultaten i en högre upplösning kan du använda `olr_data_large.npz`, som innehåller data för 35000 frekvenser (men använd den mindre versionen för att utveckla och testa koden).\n",
    "\n",
    "Datafilerna laddas in i Python med NumPys funktion `load`:\n",
    "\n",
    "<div class=\"alert alert-block alert-success\">\n",
    "    <b>Uppgift: </b>I cellerna nedan, importera NumPy och ladda in filen Data/olr_data.npy.\n",
    "</div>"
   ]
  },
  {
   "cell_type": "code",
   "execution_count": null,
   "id": "570cad00-fbc9-41b2-818d-d58133ced0f0",
   "metadata": {},
   "outputs": [],
   "source": [
    "# Importera numpy"
   ]
  },
  {
   "cell_type": "code",
   "execution_count": null,
   "id": "4e57fac6-8efe-41ab-acb1-d3b07fd54e56",
   "metadata": {},
   "outputs": [],
   "source": [
    "# Ladda in data till en variabel med namnet data"
   ]
  },
  {
   "cell_type": "markdown",
   "id": "6e6da721-cacc-497d-aec4-7e894da332a2",
   "metadata": {},
   "source": [
    "Med följande syntax tilldelar vi datan för frekvenserna till variablen `f`:"
   ]
  },
  {
   "cell_type": "code",
   "execution_count": null,
   "id": "2349680a-b1b7-4fbb-96a7-8a703fe0c990",
   "metadata": {},
   "outputs": [],
   "source": [
    "f = data[\"f\"]"
   ]
  },
  {
   "cell_type": "markdown",
   "id": "d05ea0ba-e298-48d5-a3c2-844be7a57697",
   "metadata": {},
   "source": [
    "<div class=\"alert alert-block alert-success\">\n",
    "    <b>Uppgift: </b>Skapa en variabel för varje fysisk variabel i tabellen ovan. Lägg till så många celler nedan som du behöver.\n",
    "</div>"
   ]
  },
  {
   "cell_type": "markdown",
   "id": "510c06bd-079d-41b3-94d1-4964f9158b67",
   "metadata": {},
   "source": [
    "Vi kommer att använda funktioner från modulen `olr` (som finns i filen `Kod/olr.py`).\n",
    "Vi importerar modulen `Kod.olr` och namnger den till `olr`:"
   ]
  },
  {
   "cell_type": "code",
   "execution_count": 1,
   "id": "6495bd33-2607-41ec-bdab-b3ac643b4a65",
   "metadata": {},
   "outputs": [],
   "source": [
    "import Kod.olr as olr"
   ]
  },
  {
   "cell_type": "markdown",
   "id": "a4c0dca0-9fef-4180-8763-c54e8357418d",
   "metadata": {},
   "source": [
    "Med till exempel `help(olr)` eller `help(olr.spectral_radiance)` kan du ta reda på vilka funktioner som finns i modulen och hur de fungerar."
   ]
  },
  {
   "cell_type": "markdown",
   "id": "96c9335e-0761-402a-a287-76f61a6c07f0",
   "metadata": {},
   "source": [
    "<div class=\"alert alert-block alert-success\">\n",
    "    <b>Uppgift:</b> Visa dokumentationen för <tt>olr.spectral_radiance</tt> nedan med hjälp av <tt>help</tt>-funktionen.\n",
    "</div>"
   ]
  },
  {
   "cell_type": "markdown",
   "id": "a1621def-b3f4-4c1a-b735-2e20d562393a",
   "metadata": {},
   "source": [
    "## Praktiska instruktioner\n",
    "Nedan antas det att du har importerat modulen olr som `olr` och NumPy som `np`.\n",
    "### Steg 1\n",
    "Ladda in datan (om du inte gjort det redan) och kontrollera storlek på varje variabel.\n",
    "Försök förstå vad de olika dimensionerna på datat betyder.\n",
    "T.ex. vilken dimension representerar höjd i `vmr`?"
   ]
  },
  {
   "cell_type": "code",
   "execution_count": null,
   "id": "4acb8d37-59c7-49c8-88aa-bc29a87b3f49",
   "metadata": {},
   "outputs": [],
   "source": [
    "# Lägg till din kod här, lägg till fler celler om det behövs"
   ]
  },
  {
   "cell_type": "markdown",
   "id": "41365ad7-c0cf-4331-b474-cc5ddd0e9b66",
   "metadata": {},
   "source": [
    "### Steg 2\n",
    "Bli bekant med funktionen `olr.spectral radiance`\n",
    "Den anropas som:\n",
    "```python\n",
    "olr.spectral_radiance(f, z, p, t, vmr, xsec, za)\n",
    "```\n",
    "där `za` är ett värde för en zenit-vinkel (“zenith angle”) (enhet: radianer).\n",
    "\n",
    "<div class=\"alert alert-block alert-success\">\n",
    "<b>Uppgift: </b>\n",
    "Plotta resultatet av funktionen för några vinklar.\n",
    "Som alltid, lägg till fler celler om du behöver.\n",
    "</div>"
   ]
  },
  {
   "cell_type": "code",
   "execution_count": null,
   "id": "c0110612-8b9d-4484-93aa-2f67dbf0c31d",
   "metadata": {},
   "outputs": [],
   "source": [
    "# Lägg till din kod här, lägg till fler celler om det behövs"
   ]
  },
  {
   "cell_type": "code",
   "execution_count": null,
   "id": "a0c76944-8ec0-4d88-b12e-b98658e2dab5",
   "metadata": {},
   "outputs": [],
   "source": [
    "# Lägg till din kod här, lägg till fler celler om det behövs"
   ]
  },
  {
   "cell_type": "markdown",
   "id": "02c4eb2f-fcee-4d32-b757-f9926b0fe218",
   "metadata": {},
   "source": [
    "### Steg 3\n",
    "Implementera en funktion för Ekvation (5) som du kallar `spectral_exitance`.\n",
    "Denna funktion ska internt anropa `olr.spectral_radiance`.\n",
    "Fundera på vad för parametrar er funktion behöver som input.\n",
    "\n",
    "<div class=\"alert alert-block alert-info\">\n",
    "<b>Tips: </b> Titta på vilka argument <tt>olr.spectral_radiance</tt> tar, och anpassa er funktion därefter.\n",
    "</div>\n",
    "\n",
    "Notera att du inte behöver upprepa beräkningen av $E_s$ för varje frekvens, utan det går att utföra beräkningen för alla frekvenser i ett anrop av `np.trapz`.\n",
    "För att göra detta skapar vi först en matris inne i funktionen där vi kan spara värdena.\n",
    "Upprepa beräkningar av funktionen inne i integralen i Ekvation (5) från den nedre till övre integrationsgränsen med ett lämpligt litet inkrement.\n",
    "För att spara resultaten från beräkningarna, skapa en matris där du sparar resultatet för varje vinkel som en rad eller kolumn i matrisen.\n",
    "\n",
    "<div class=\"alert alert-block alert-info\">\n",
    "<b>Tips: </b>Kommer du ihåg hur vi skapade en tom array i introduktionen?\n",
    "    <details>\n",
    "        <summary><em>Tips:</em></summary>\n",
    "        Det har med nollor att göra.\n",
    "    </details>\n",
    "</div>\n",
    "\n",
    "Du kommer att behöva använda en loop här.\n",
    "Kom ihåg att anrop av `olr.spectral_radiance` ger $I(\\theta)$ för alla frekvenser.\n",
    "Nu kan vi beräkna integralen i Ekvation (5) för alla frekvenser i ett svep med `np.trapz`.\n",
    "(Kom ihåg vad du lärde er om np.trapz i introduktionen.) \n",
    "\n",
    "Slutligen, returnera resultatet av Ekvation (5) från funktionen (glöm inte konstanten $C$)."
   ]
  },
  {
   "cell_type": "code",
   "execution_count": null,
   "id": "f66c96ac-e7e3-49ed-ada8-e0f80a27c278",
   "metadata": {},
   "outputs": [],
   "source": [
    "# Lägg till din kod här, lägg till fler celler om det behövs"
   ]
  },
  {
   "cell_type": "markdown",
   "id": "5447c431-df1b-4c98-99a5-cf5bade52101",
   "metadata": {},
   "source": [
    "### Steg 4\n",
    "Implementera en funktion för Ekvation (1) som du kallar `exitance`.\n",
    "Denna funktion ska bland annat ta $E_s$ som input och returnera $E$.\n",
    "Vad mer än $E_s$ behöver funktionen som input?"
   ]
  },
  {
   "cell_type": "code",
   "execution_count": null,
   "id": "2d4d1d6d-da25-4ed0-ac95-d1edb181c9b9",
   "metadata": {},
   "outputs": [],
   "source": [
    "# Lägg till din kod här, lägg till fler celler om det behövs"
   ]
  },
  {
   "cell_type": "markdown",
   "id": "c1513f24-20c2-42f5-8027-ba7270bc1ace",
   "metadata": {},
   "source": [
    "### Steg 5\n",
    "Nu ska du implementa funktioner för att \"störa\" temperatur- och vmr-profilen för att se hur det påverkar OLR.\n",
    "\n",
    "När du implementerar funktionerna är det viktigt att du håller reda på vad som är ursprungliga och vad som är modifierade värden.\n",
    "I många språk kan du kopiera en variabel (i exemplet nedan `x`) genom att ange:\n",
    "```\n",
    "x_kopia = x\n",
    "```\n",
    "\n",
    "I Python är `x_kopia` **inte en kopia** på `x`, utan en referens till samman objekt som `x`.\n",
    "För arrayer innebär detta att om du försöker modifiera `x_kopia`, t.ex.\n",
    "```\n",
    "x_kopia[0] = 1\n",
    "```\n",
    "så kommer även `x` att modifieras (testa och se!).\n",
    "Den här tekniken sparar minne och kan göra koden snabbare, men kan även leda till oväntade konsekvenser som ofta är svåra att felsöka.\n",
    "För att skapa en kopia av en NumPy array, använd arrayens metod `copy`:\n",
    "\n",
    "```python\n",
    "x_kopia = x.copy()\n",
    "```\n",
    "\n",
    "***\n",
    "\n",
    "Börja med att definera en funktion `perturb_t` för att störa temperaturprofilen:\n",
    "```python\n",
    "perturb_t(t, dt)\n",
    "```\n",
    "där `t` är orginalprofilen och `dt` är en störning i K.\n",
    "\n",
    "Vi vill begränsa störningen till höjder inom troposfären.\n",
    "Vi kan här anta att `t` är ordnad från lägre till högre höjder och att tropopausen är där temperaturprofilen har sitt minsta värde.\n",
    "Funktionen ska alltså ta en temperaturprofil `t` och ett värde `dt` och lägga till `dt` till `t` överallt i troposfären: alltså från början av arrayen t.o.m. där `t` har sitt minsta värde, men inte till elementen därefter.\n",
    "\n",
    "<div class=\"alert alert-block alert-info\">\n",
    "<details>\n",
    "    <summary><em>Om du behöver tips:</em></summary>\n",
    "    1. Om du behöver färska upp minnet om hur indexering och slices av numpy arrays fungerar, gå tillbaka till introduktionen.\n",
    "    <br>\n",
    "    2. Undersök i dokumentationen eller via din favoritsökmotor om NumPy har en funktion för att hitta indexet för en arrays lägsta värde.\n",
    "    3. Det kan ofta underlätta att t.ex. plotta <tt>t</tt> för att visuellt se om du har gjort rätt.\n",
    "</details>\n",
    "</div>"
   ]
  },
  {
   "cell_type": "code",
   "execution_count": null,
   "id": "b380a9be-6866-4f4b-92bc-db18507f9fec",
   "metadata": {},
   "outputs": [],
   "source": [
    "# Lägg till din kod här, lägg till fler celler om det behövs"
   ]
  },
  {
   "cell_type": "markdown",
   "id": "0b746b65-81cf-4f10-b923-8b062745d7bc",
   "metadata": {},
   "source": [
    "Skapa en liknande funktion för volymandelar:\n",
    "```python\n",
    "perturb_vmr(vmr_i, dvmr, t)\n",
    "```\n",
    "där `vmr` i är volymandelar för en viss specifik gas som ska störas, och `dvmr` är en relativ störning (0.1 för 10% ökning osv.).\n",
    "Även `perturb_vmr` ska bara störa värdena i troposfären (och `t` måste därför vara input även till den här funktionen)."
   ]
  },
  {
   "cell_type": "code",
   "execution_count": null,
   "id": "90047494-e8a4-475c-ab79-1e5f7e0434d5",
   "metadata": {},
   "outputs": [],
   "source": [
    "# Lägg till din kod här, lägg till fler celler om det behövs"
   ]
  },
  {
   "cell_type": "markdown",
   "id": "022bc109-19e6-4123-a02a-1772d8f44037",
   "metadata": {},
   "source": [
    "## Frågor\n",
    "Svaren till följande frågor ska lämnas in individuellt på Canvas.\n",
    "\n",
    "<div class=\"alert  alert-block alert-info\">\n",
    "Kommer du ihåg hur man sparar figurer? Om inte, gå tillbaka till Introduktion till Python och avsnittet om Matplotlib.\n",
    "</div>"
   ]
  },
  {
   "cell_type": "markdown",
   "id": "5a272632-e6eb-4bc4-be87-2428ba69a6d0",
   "metadata": {},
   "source": [
    "### Uppgift 1\n",
    "Plotta (i samma figur) spektral radians för ett lågt och ett högt värde av zenitvinkel, som funktion av vågtal. För denna figur, och all kommande, ange storhet och enhet för bägge axlar."
   ]
  },
  {
   "cell_type": "code",
   "execution_count": null,
   "id": "95083ceb-8304-47d9-856e-1067f30cddd5",
   "metadata": {},
   "outputs": [],
   "source": [
    "# Lägg till din kod här, lägg till fler celler om det behövs"
   ]
  },
  {
   "cell_type": "markdown",
   "id": "f129ece2-7a16-4211-b6c2-2c918898131e",
   "metadata": {},
   "source": [
    "### Uppgift 2\n",
    "Plotta spektral emittans (glöm ej enhet), som funktion av vågtal."
   ]
  },
  {
   "cell_type": "code",
   "execution_count": null,
   "id": "a8f93a06-b5cc-4f26-ad22-8ddd50008389",
   "metadata": {},
   "outputs": [],
   "source": [
    "# Lägg till din kod här, lägg till fler celler om det behövs"
   ]
  },
  {
   "cell_type": "markdown",
   "id": "0f68d5d2-464f-4143-9fa1-c9be9e829a0c",
   "metadata": {},
   "source": [
    "### Uppgift 3\n",
    "Beräkna OLR (emittans) för nominell data (d.v.s. för värden som kommer ifrån datafilen).\n",
    "Vilket värde får du? Enhet? Hur kommer du fram till att ditt värde är rimligt?"
   ]
  },
  {
   "cell_type": "code",
   "execution_count": null,
   "id": "cc14850f-f007-4f2f-b265-c211d22432b2",
   "metadata": {},
   "outputs": [],
   "source": [
    "# Lägg till din kod här, lägg till fler celler om det behövs"
   ]
  },
  {
   "cell_type": "markdown",
   "id": "868017ff-7267-439f-bef5-1b6d7ba06a80",
   "metadata": {},
   "source": [
    "### Uppgift 4\n",
    "Gör en figur som visar hur spektral emittans ändras för en ökning av temperaturen med 1 K.\n",
    "Vad är förändringen av OLR (tänk på tecknet)?"
   ]
  },
  {
   "cell_type": "code",
   "execution_count": null,
   "id": "1c715ad3-2627-4a5b-b8ae-c98c4a7326a5",
   "metadata": {},
   "outputs": [],
   "source": [
    "# Lägg till din kod här, lägg till fler celler om det behövs"
   ]
  },
  {
   "cell_type": "markdown",
   "id": "42944eec-98d9-46b3-b93b-386e756edf04",
   "metadata": {},
   "source": [
    "### Uppgift 5\n",
    "Gör en figur som visar hur spektral emittans ändras för en 35%-ig ökning av CO$_2$.\n",
    "Vad är förändringen av OLR?\n",
    "35% är ungefär så mycket CO$_2$ hade ökat ifrån sitt förindustriella värde 2019.\n",
    "Hur väl stämmer ditt resultat med IPCCs värde (se Figur 3, nedan)?\n",
    "<figure>\n",
    "    <img src=\"./media/ipcc_5_ar6.png\" width=\"800\">\n",
    "    <figcaption>\n",
    "        <b>Figur 3: </b>Uppskattning av \"radiative forcing\". Från IPCC AR6, 2021: <em>Climate Change 2021: The Physical Science Basis</em>.\n",
    "    </figcaption>\n",
    "</figure>"
   ]
  },
  {
   "cell_type": "code",
   "execution_count": null,
   "id": "fc69cb52-7c97-49e8-961a-2a2e5371c8c3",
   "metadata": {},
   "outputs": [],
   "source": [
    "# Lägg till din kod här, lägg till fler celler om det behövs"
   ]
  },
  {
   "cell_type": "markdown",
   "id": "31706d2e-ae81-4a9b-9eb8-cca1a6af89ff",
   "metadata": {},
   "source": [
    "### Uppgift 6\n",
    "Som 5 men modifiera O$_3$ och jämför med IPCC.\n",
    "Ökningen av O$_3$ varierar kraftigt mellan regioner, men den globala ökningen av troposfäriskt ozon är i storleksordningen 30%."
   ]
  },
  {
   "cell_type": "code",
   "execution_count": null,
   "id": "17ea611f-3bb5-4508-be0c-81855e88c0ec",
   "metadata": {},
   "outputs": [],
   "source": [
    "# Lägg till din kod här, lägg till fler celler om det behövs"
   ]
  },
  {
   "cell_type": "markdown",
   "id": "6880968e-ec8d-4243-8f97-ca943fb89aa2",
   "metadata": {},
   "source": [
    "### Uppgift 7\n",
    "Som 5 men modifiera CH$_4$ med ett procenttal som representerar ökningen 2019, och jämför med IPCC."
   ]
  },
  {
   "cell_type": "code",
   "execution_count": null,
   "id": "96e3778f-3b29-40fd-a652-c323eb98359d",
   "metadata": {},
   "outputs": [],
   "source": [
    "# Lägg till din kod här, lägg till fler celler om det behövs"
   ]
  },
  {
   "cell_type": "markdown",
   "id": "5ed7f3ea-cd56-41cc-a99e-0107ab52475f",
   "metadata": {},
   "source": [
    "### Uppgift 8\n",
    "Som 5 men modifiera N$_2$O med ett procental som representerar ökningen 2019, och jämför med IPCC."
   ]
  },
  {
   "cell_type": "code",
   "execution_count": null,
   "id": "f8f79135-1c29-48fd-9aa4-50cc60b034f3",
   "metadata": {},
   "outputs": [],
   "source": [
    "# Lägg till din kod här, lägg till fler celler om det behövs"
   ]
  },
  {
   "cell_type": "markdown",
   "id": "3197ee50-630a-4387-afce-c98a713f80a3",
   "metadata": {},
   "source": [
    "### Uppgift 9\n",
    "Ungefär hur mycket måste du ändra H$_2$O för att få samma ändring i OLR som den 35%-iga ökningen i CO$_2$ gav?\n",
    "Om du slår samman resultaten ifrån 5-9, vilken är den viktigaste växthusgasen?"
   ]
  },
  {
   "cell_type": "code",
   "execution_count": null,
   "id": "21ec87b1-5deb-4ab9-9a7c-0dc2252491b6",
   "metadata": {},
   "outputs": [],
   "source": [
    "# Lägg till din kod här, lägg till fler celler om det behövs"
   ]
  },
  {
   "cell_type": "markdown",
   "id": "5036cd76-7419-4653-bee6-4b35cc9d48f6",
   "metadata": {},
   "source": [
    "### Uppgift 10\n",
    "Hur mycket förändras OLR vid en fördubbling av CO$_2$?\n",
    "Vilken temperaturökning behövs för att föra OLR tillbaka (d.v.s. OLR ifrån fråga 3)?\n",
    "Du kan hitta temperaturvärdet med “trial and error”.\n",
    "Men kan du även beräkna den med någon fysikalisk lag?"
   ]
  },
  {
   "cell_type": "code",
   "execution_count": null,
   "id": "92b6f9d2-e9fa-40e6-a9f9-0f4400ec7e56",
   "metadata": {},
   "outputs": [],
   "source": [
    "# Lägg till din kod här, lägg till fler celler om det behövs"
   ]
  },
  {
   "cell_type": "markdown",
   "id": "47ece372-92d6-43fe-baef-13b4d6fc4a90",
   "metadata": {},
   "source": [
    "### Uppgift 11\n",
    "**Frivillig del**\n",
    "\n",
    "Kan du använda resultatet från uppgift 10 för att uppskatta storleken på vattenångans återkoppling som respons på en fördubbling av CO$_2$?\n",
    "Det vill säga, hur stor blir temperaturökningen om man inkluderar återkoppling av vattenånga?"
   ]
  },
  {
   "cell_type": "code",
   "execution_count": null,
   "id": "0b79d16a-60a7-4bf7-9044-ad6f8151ab3f",
   "metadata": {},
   "outputs": [],
   "source": [
    "# Lägg till din kod här, lägg till fler celler om det behövs"
   ]
  },
  {
   "cell_type": "markdown",
   "id": "292674d5-cbf2-4491-99f1-2d31570bf13b",
   "metadata": {},
   "source": [
    "### Uppgift 12\n",
    "**Frivillig del**\n",
    "\n",
    "Kan du verifiera att inverkan av CO2 är ungefärligt logaritmisk?\n",
    "Det vill säga att inverkan följer $k \\cdot \\ln(C/C 0 )$, där $C_0$ är en referenskoncentration.\n",
    "Enligt [https://en.wikipedia.org/wiki/Radiative_forcing#Forcing_due_to_changes_in_atmospheric_gas](https://en.wikipedia.org/wiki/Radiative_forcing#Forcing_due_to_changes_in_atmospheric_gas) är $k = 5.35$ W/m$^2$.\n",
    "Vilket värde får du?"
   ]
  },
  {
   "cell_type": "code",
   "execution_count": null,
   "id": "544ac14d-1f4e-4adf-bd6d-a2eec644c5e2",
   "metadata": {},
   "outputs": [],
   "source": [
    "# Lägg till din kod här, lägg till fler celler om det behövs"
   ]
  },
  {
   "cell_type": "markdown",
   "id": "8ddc970a-d6bb-44e2-87c3-317f5b4c2f75",
   "metadata": {},
   "source": [
    "## Avslutning\n",
    "Ladda upp dina svar på uppgifterna ovan på Canvas."
   ]
  }
 ],
 "metadata": {
  "kernelspec": {
   "display_name": "Python 3 (ipykernel)",
   "language": "python",
   "name": "python3"
  },
  "language_info": {
   "codemirror_mode": {
    "name": "ipython",
    "version": 3
   },
   "file_extension": ".py",
   "mimetype": "text/x-python",
   "name": "python",
   "nbconvert_exporter": "python",
   "pygments_lexer": "ipython3",
   "version": "3.11.7"
  }
 },
 "nbformat": 4,
 "nbformat_minor": 5
}
