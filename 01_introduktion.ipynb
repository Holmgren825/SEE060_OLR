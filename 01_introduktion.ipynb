{
 "cells": [
  {
   "cell_type": "markdown",
   "id": "bb065893-8f03-41f4-802f-d7d254fd7407",
   "metadata": {},
   "source": [
    "# Introduktion till Python SEE060"
   ]
  },
  {
   "cell_type": "markdown",
   "id": "c1a37117-35ba-40b1-bc11-5be3a3fc421d",
   "metadata": {
    "editable": true,
    "slideshow": {
     "slide_type": ""
    },
    "tags": []
   },
   "source": [
    "Målet med den här notebooken är att ni ska få en introduktion till delar av Python och dess ekosystem som kommer vara användbara när ni arbetar med inlämningsuppgift 2: Utgående långvågig strålning (OLR).\n",
    "\n",
    "Först och främst, det ni läser just nu är en så kallad [Jupyter Notebook](https://jupyter.org/).\n",
    "Det är ett interaktivt dokument där det går att blanda text, bilder och kod-celler.\n",
    "Dessa notebooks visas och redigeras oftast i ett program som heter JupyterLab.\n",
    "JupyterLab kan köras på din egen dator eller på en server någonstans i världen, men oavsett används en webbläsare för att komma åt det grafiska gränssnittet (Det du tittar på nu).\n",
    "\n",
    "Detta betyder att JupyterLab fungerar till mångt och mycket som vilket program som helst på din dator.\n",
    "Skapar du till exempel en ny fil via `File` i menyraden ovan kommer det skapas en ny fil i mappen där du startade programmet.\n",
    "\n",
    "Klickar du på mapp-symbolen (📁) i sidomenyn till vänster öppnas en panel som ger dig en överblick över vilka filer och mappar som finns i den nuvarande mappen.\n",
    "Panelen fungerar som de flesta filhanterare: dubbelklicka för att öppna en mapp eller fil, enkelklicka för att markera, eller högerklicka för att öppna en meny för att kopiera osv.\n",
    "Högerklickar du utan att ha markerat en fil eller mapp öppnas en meny där du kan skapa en ny fil, en ny notebook eller en ny mapp. För en genomgång av gränsnittet klicka på `Help -> Welcome Tour`\n",
    "\n",
    "<div class=\"alert alert-block alert-warning\">\n",
    "<b>Varning: </b>I fallet att du följt länken på Canvas körs den här notebooken på något som heter <a href=https://mybinder.org/>MyBinder</a>, vilket innebär att JupyterLab körs på en server någonstans i molnet. Det är väldigt smidigt för att komma igång med Jupyter, men <b>ingenting sparas</b> och programmet stängs av efter en stunds inaktivitet.\n",
    "Alltså måste du ladda ner filerna till din egen dator för att spara dem (Högerklicka på filen i filhanteraren -> Download)\n",
    "</div>\n"
   ]
  },
  {
   "cell_type": "markdown",
   "id": "979e0d96-3a28-4c8c-92b3-d33543a4c511",
   "metadata": {},
   "source": [
    "JupyterLab är som sagt ett program för att visa och redigera Jupyter Notebooks.\n",
    "För en första genomgång av notebooks, klicka på `Help -> Notebook Tour`.\n",
    "\n",
    "En notebook består alltså av en samling celler, där cellen kan innehålla text (i form av [Markdown](https://www.markdownguide.org/cheat-sheet/), följ länken för ett cheat-sheet) eller exekverbar kod: Jupyter har stöd för många olika programmeringsspråk, men vi kommer att fokusera på Python.\n",
    "Det här är en markdown-cell, dubbelklickar du på den ser du hur \"koden\" ser ut.\n",
    "Trycker du på `Shift+Enter` på tangentbordet, eller play-knappen i menyn ovan exekveras cellen igen."
   ]
  },
  {
   "cell_type": "markdown",
   "id": "fb9efea7-5bc3-496c-8e91-95b5755f948d",
   "metadata": {
    "editable": true,
    "slideshow": {
     "slide_type": ""
    },
    "tags": []
   },
   "source": [
    "Nedan är ett exempel på en kod-cell med lite Python-kod.\n"
   ]
  },
  {
   "cell_type": "code",
   "execution_count": null,
   "id": "e9266b8b-9291-4192-968b-3d5c01f6df65",
   "metadata": {
    "editable": true,
    "slideshow": {
     "slide_type": ""
    },
    "tags": []
   },
   "outputs": [],
   "source": [
    "print(f\"Hello, World!\")"
   ]
  },
  {
   "cell_type": "markdown",
   "id": "983919d7-f7da-4de9-9877-0ecfd94daf5d",
   "metadata": {},
   "source": [
    "## Variabler\n",
    "Variabler i Python tilldelas med `=`:"
   ]
  },
  {
   "cell_type": "code",
   "execution_count": null,
   "id": "27a8f7c3-9ae4-45bd-8ea9-5332b32f2cc7",
   "metadata": {},
   "outputs": [],
   "source": [
    "# En sträng\n",
    "a = \"abc\"\n",
    "\n",
    "# Ett heltal (integer)\n",
    "b = 1\n",
    "\n",
    "# Ett flyttal (float)\n",
    "c = 2.4"
   ]
  },
  {
   "cell_type": "markdown",
   "id": "6a346e2d-6a79-4c4e-a68e-6ca57fc7d910",
   "metadata": {},
   "source": [
    "Celler känner till varandra, så en variabel eller funktion är tillgänglig i följande celler:"
   ]
  },
  {
   "cell_type": "code",
   "execution_count": null,
   "id": "5df570ba-7cd4-44e7-954e-943c705b3f93",
   "metadata": {},
   "outputs": [],
   "source": [
    "a"
   ]
  },
  {
   "cell_type": "code",
   "execution_count": null,
   "id": "2639e4a3-a0d3-4c67-aa66-ebe6f7524e75",
   "metadata": {},
   "outputs": [],
   "source": [
    "b + c"
   ]
  },
  {
   "cell_type": "code",
   "execution_count": null,
   "id": "fec8a1d2-482f-46af-a250-72371d358dc9",
   "metadata": {},
   "outputs": [],
   "source": [
    "c**2"
   ]
  },
  {
   "cell_type": "markdown",
   "id": "f338fd5e-b569-4db3-bf0b-290db1725b59",
   "metadata": {},
   "source": [
    "Sådant som inte är tillåtet eller fungerar returnerar ett felmeddelande:"
   ]
  },
  {
   "cell_type": "code",
   "execution_count": null,
   "id": "47b2f6c3-e165-40f1-bc46-a48ac8ebf0c8",
   "metadata": {},
   "outputs": [],
   "source": [
    "a + b"
   ]
  },
  {
   "cell_type": "code",
   "execution_count": null,
   "id": "42e9f82d-3748-42a5-8adf-aa5c906547e5",
   "metadata": {},
   "outputs": [],
   "source": [
    "d"
   ]
  },
  {
   "cell_type": "markdown",
   "id": "a163b5aa-736c-4ca2-a3df-de9c82b91b9c",
   "metadata": {},
   "source": [
    "<div class=\"alert alert-block alert-info\">\n",
    "<b>Info: </b>Förstår du felmeddelandena ovan?\n",
    "</div>"
   ]
  },
  {
   "cell_type": "markdown",
   "id": "e64b30f9-80d0-46e3-be38-e43715472b34",
   "metadata": {},
   "source": [
    "## Strängar\n",
    "Strängar i Python omges av enkla `'...'` eller dubble `\"...\"` citattecken.\n",
    "De kan kombineras:"
   ]
  },
  {
   "cell_type": "code",
   "execution_count": null,
   "id": "f1c0be8c-4858-4e6d-97ab-148265516fd2",
   "metadata": {},
   "outputs": [],
   "source": [
    "a = \"hej\"\n",
    "b = \"då\"\n",
    "a + b"
   ]
  },
  {
   "cell_type": "markdown",
   "id": "616fe086-47de-4591-8313-8d887521f0d0",
   "metadata": {},
   "source": [
    "Men man kan inte subtrahera strängar"
   ]
  },
  {
   "cell_type": "code",
   "execution_count": null,
   "id": "9e88efaf-1df3-4fc6-95d4-aad5537b5235",
   "metadata": {},
   "outputs": [],
   "source": [
    "a - b"
   ]
  },
  {
   "cell_type": "markdown",
   "id": "eaedf1a7-baec-4ab5-a00e-37a6c224f4a4",
   "metadata": {},
   "source": [
    "Det går också att repetera strängar:"
   ]
  },
  {
   "cell_type": "code",
   "execution_count": null,
   "id": "124bf415-7bb9-4e7f-8584-0e930aab2fa2",
   "metadata": {},
   "outputs": [],
   "source": [
    "a * 3"
   ]
  },
  {
   "cell_type": "markdown",
   "id": "94013273-6014-4e18-a4ba-fcbae3b2ad21",
   "metadata": {},
   "source": [
    "En sträng är en sekvens av tecken.\n",
    "Det möjliggör att vi kan välja ut enstaka (indexera) eller flera (slices) delar av strängen:"
   ]
  },
  {
   "cell_type": "code",
   "execution_count": null,
   "id": "5902dd93-ad6a-4402-b305-c06ddea1c51a",
   "metadata": {},
   "outputs": [],
   "source": [
    "a = \"En lite längre sträng\"\n",
    "# Första elementet\n",
    "a[0]"
   ]
  },
  {
   "cell_type": "code",
   "execution_count": null,
   "id": "1e33b700-b891-4e60-8bb3-8b622ca2ec19",
   "metadata": {},
   "outputs": [],
   "source": [
    "# Sista elementet\n",
    "a[-1]"
   ]
  },
  {
   "cell_type": "code",
   "execution_count": null,
   "id": "5db6b849-2392-4139-bf86-62c59e47f96b",
   "metadata": {},
   "outputs": [],
   "source": [
    "a[4:8]"
   ]
  },
  {
   "cell_type": "markdown",
   "id": "5b386a88-63a6-4934-aa2b-1400f0a47594",
   "metadata": {},
   "source": [
    "<div class=\"alert alert-block alert-success\">\n",
    "<b>Uppgift: </b>Vad händer om du försöker ta tecknet på plats 21? Lägg till en cell under denna och pröva. Det gör du enklast genom att markera denna cellen och klicka på <b>B</b> på tangentbordet.\n",
    "</div>"
   ]
  },
  {
   "cell_type": "markdown",
   "id": "f49d22ff-c448-4ace-9a5f-1ee9507376d0",
   "metadata": {},
   "source": [
    "## Listor\n",
    "För mer generella sekvenser i Python finns listor.\n"
   ]
  },
  {
   "cell_type": "code",
   "execution_count": null,
   "id": "d9809628-980c-4ea5-8948-02341483d2a9",
   "metadata": {},
   "outputs": [],
   "source": [
    "a = [1, 2, 3, 4, 5, 6, 7, 8]\n",
    "a"
   ]
  },
  {
   "cell_type": "markdown",
   "id": "d90e86a5-e637-46d4-b00b-5fe44c44f0c3",
   "metadata": {},
   "source": [
    "Precis som strängar kan dessa indexeras och sliceas:"
   ]
  },
  {
   "cell_type": "code",
   "execution_count": null,
   "id": "f27b97fe-144d-45b1-994b-e015dded23ed",
   "metadata": {},
   "outputs": [],
   "source": [
    "a[0]"
   ]
  },
  {
   "cell_type": "code",
   "execution_count": null,
   "id": "ed19b36d-3c50-4f34-8e51-c0ecaece59e9",
   "metadata": {},
   "outputs": [],
   "source": [
    "a[2:5]"
   ]
  },
  {
   "cell_type": "code",
   "execution_count": null,
   "id": "f4c84d39-260f-426b-9ae7-ab0ddeb7aba8",
   "metadata": {},
   "outputs": [],
   "source": [
    "a[5:]"
   ]
  },
  {
   "cell_type": "markdown",
   "id": "3d25af17-6154-4ce8-aff7-5df0b301e366",
   "metadata": {},
   "source": [
    "Det är enkelt att iterera över sekvenser och utföra operationer på elementen:"
   ]
  },
  {
   "cell_type": "code",
   "execution_count": null,
   "id": "41052196-8e9d-4e0b-ade9-755cf6319162",
   "metadata": {},
   "outputs": [],
   "source": [
    "for elem in a:\n",
    "    print(elem**2)"
   ]
  },
  {
   "cell_type": "markdown",
   "id": "3f3bfbaf-b393-4e34-a659-9d6fac66dc14",
   "metadata": {},
   "source": [
    "Att manuellt skapa en lista för att iterera över nummer är inte så smidigt, istället finns den inbyggda funktionen `range`:"
   ]
  },
  {
   "cell_type": "code",
   "execution_count": null,
   "id": "96874711-2f2a-43a7-8f64-95fcc263fd98",
   "metadata": {},
   "outputs": [],
   "source": [
    "for i in range(8):\n",
    "    print(i**2)"
   ]
  },
  {
   "cell_type": "markdown",
   "id": "a67a307f-956e-4339-a4a0-fe8ad66b4d0c",
   "metadata": {},
   "source": [
    "`range` accepterar flera parametrar, du kan se vilka de är genom att läsa funktionens signatur.\n",
    "Den öppnas antingen automatisk medan du skrivit funktionen, eller så kan du trycka på `Shift + Tab`.\n",
    "\n",
    "<div class=\"alert alert-block alert-success\">\n",
    "<b>Uppgift: </b>Skriv en loop i en ny cell under denna som skriver ut var tredje tal mellan 20 och 50.\n",
    "<br>\n",
    "<details>\n",
    "<summary><em>Tips:</em></summary>\n",
    "Läs igenom signaturen för range, antingen här eller med hjälp av valfri sökmotor.\n",
    "</details>\n",
    "</div>"
   ]
  },
  {
   "cell_type": "markdown",
   "id": "14b776cc-5fda-4004-9a9b-e5177740e63f",
   "metadata": {},
   "source": [
    "## Funktioner\n",
    "Du kan definiera egna funktioner som sedan är tillgängliga globalt: "
   ]
  },
  {
   "cell_type": "code",
   "execution_count": null,
   "id": "dfa3fcc8-1162-4781-8522-57e5e863124a",
   "metadata": {},
   "outputs": [],
   "source": [
    "def min_funktion():\n",
    "    print(\"Hello, World!\")"
   ]
  },
  {
   "cell_type": "code",
   "execution_count": null,
   "id": "3eaf546b-bcd0-4696-b96b-07ae51e1674f",
   "metadata": {},
   "outputs": [],
   "source": [
    "min_funktion()"
   ]
  },
  {
   "cell_type": "markdown",
   "id": "b5236d80-052b-4989-ac29-6fca286791ed",
   "metadata": {},
   "source": [
    "Variabler/data kan skickas"
   ]
  },
  {
   "cell_type": "code",
   "execution_count": null,
   "id": "b618cc5e-5949-479f-96ac-c4531a4fb174",
   "metadata": {},
   "outputs": [],
   "source": [
    "def min_funktion(namn, n_iterationer):\n",
    "    for i in range(n_iterationer):\n",
    "        print(f\"Hej {namn}\")"
   ]
  },
  {
   "cell_type": "code",
   "execution_count": null,
   "id": "8ca00d94-8f89-449e-a90d-cb6d8e3cb31b",
   "metadata": {},
   "outputs": [],
   "source": [
    "min_funktion(\"Pelle\", 5)"
   ]
  },
  {
   "cell_type": "markdown",
   "id": "3c1258d9-8b63-49ee-bd43-1b0c4eb8ff38",
   "metadata": {},
   "source": [
    "<div class=\"alert alert-block alert-success\">\n",
    "    <b>Uppgift: </b>Någon fråga om funktioner, introducera return\n",
    "</div>"
   ]
  },
  {
   "cell_type": "markdown",
   "id": "01ba938e-65f3-43e4-9077-73aff0cd1e54",
   "metadata": {},
   "source": [
    "## Bibliotek\n",
    "I Pythons [standardbibliotek](https://docs.python.org/3.11/library/index.html) finns **moduler** med färdiga funktioner för diverse problem du kan stöta på.\n",
    "En modul, eller funktion kan importeras med `import <modulnamn>`.\n",
    "Detta är inte unikt för notebooks, utan fungerar likadant i vanliga script."
   ]
  },
  {
   "cell_type": "code",
   "execution_count": null,
   "id": "0ee88c8c-efd5-4e68-82a7-07fd6a9e9e69",
   "metadata": {},
   "outputs": [],
   "source": [
    "# Itertools har många funktioner för att snabbt skapa nya sekvenser\n",
    "import itertools"
   ]
  },
  {
   "cell_type": "code",
   "execution_count": null,
   "id": "ae414322-60ca-4010-b0a6-7f76822707d3",
   "metadata": {},
   "outputs": [],
   "source": [
    "deltagare = [\"Pelle\", \"Saga\", \"Fatima\", \"Alex\"]\n",
    "matcher = []\n",
    "for match in itertools.combinations(deltagare, 2):\n",
    "    matcher.append(match)"
   ]
  },
  {
   "cell_type": "code",
   "execution_count": null,
   "id": "cb98ce3b-6aa0-4c28-8f6d-c21f57d029ae",
   "metadata": {},
   "outputs": [],
   "source": [
    "matcher"
   ]
  },
  {
   "cell_type": "markdown",
   "id": "5fa22fee-a2db-4274-a9c2-e4ed29483cd0",
   "metadata": {},
   "source": [
    "Matematiska funktioner finns i modulen `math`:"
   ]
  },
  {
   "cell_type": "code",
   "execution_count": null,
   "id": "a5f71729-7dcc-4503-bee6-5316909d78eb",
   "metadata": {},
   "outputs": [],
   "source": [
    "import math"
   ]
  },
  {
   "cell_type": "code",
   "execution_count": null,
   "id": "2c86234d-615c-4498-9ecd-428c1cfe3f74",
   "metadata": {},
   "outputs": [],
   "source": [
    "math.log(100)"
   ]
  },
  {
   "cell_type": "code",
   "execution_count": null,
   "id": "a943bf22-6e0d-4370-9c67-b28ebb3f84f4",
   "metadata": {},
   "outputs": [],
   "source": [
    "math.pi"
   ]
  },
  {
   "cell_type": "code",
   "execution_count": null,
   "id": "a135c110-c50d-45ab-802e-38dc5530c499",
   "metadata": {},
   "outputs": [],
   "source": [
    "i = math.sqrt(4)"
   ]
  },
  {
   "cell_type": "code",
   "execution_count": null,
   "id": "03bdd479-0e1d-480b-8f3f-226738809ea1",
   "metadata": {},
   "outputs": [],
   "source": [
    "i"
   ]
  },
  {
   "cell_type": "markdown",
   "id": "07894912-52bf-42f4-afcc-598ad0760516",
   "metadata": {},
   "source": [
    "Du kan också enkelt skriva egna moduler och importera dessa.\n",
    "\n",
    "<div class=\"alert alert-block alert-success\">\n",
    "    <b>Uppgift: </b> Skapa en ny fil min_modul.py genom filhanteraren till vänster.\n",
    "    Öppna denna filen och skapa en funktion som beräknar volymen av en kub. Funktionen ska acceptera tre argument: width, height, depth.\n",
    "    Lägg till några celler under, importera modulen och testa din funktion.\n",
    "</div>"
   ]
  },
  {
   "cell_type": "markdown",
   "id": "4c7eaabc-e855-466f-9c32-27393c6ca3bf",
   "metadata": {},
   "source": [
    "Men det som gör Python så populärt är det stora ekosystemet av tredjepartsbibliotek, skapade av användarna av Python.\n",
    "Bilden nedan illustrerar ett exempel på populära bibliotek inom vad som refereras till som \"scientific python\".\n",
    "\n",
    "<figure>\n",
    "<img src=\"https://fabienmaussion.info/acinn_python_workshop/figures/scipy_ecosystem.png\" alt=\"Python scientific ecosystem\" width=\"600\">\n",
    "<figcaption>Credit: Fabien Maussion, Jake Vanderplas</figcaption>\n",
    "</figure>\n",
    "\n",
    "Ett externt bibliotek kan till exempel implementera effektiva algoritmer för maskininlärning, funktioner för statistiska beräkningar, eller sätt att skapa interaktiva figurer.\n",
    "Vi kommer dock att fokusera på två av de mest grundläggande och användbara biblioteken: Numpy och Matplotlib"
   ]
  },
  {
   "attachments": {},
   "cell_type": "markdown",
   "id": "923b638c-54dc-42f6-a698-b750b3bd126e",
   "metadata": {},
   "source": [
    "### Numpy\n",
    "Pythons listor är väldigt flexibla, men för stora listor börjar Pythons kännas lite långsamt.\n",
    "[Numpy](https://numpy.org/) skapades för att via Python få tillgång till prestandan hos programmeringsspråk som C.\n",
    "\n",
    "Numpy introducerar en ny typ av sekvens: en n-dimensionella array (kallas ibland fält på Svenska) och en stor samling optimerade funktioner och metoder.\n",
    "Nedan följer ett enkelt exempel för att visa skillnaderna mellan Python och Numpy:\n",
    "\n",
    "Enligt konventionen importerar vi helt enkelt numpy och sätter namnet till `np`."
   ]
  },
  {
   "cell_type": "code",
   "execution_count": null,
   "id": "0dece354-0ddd-41b4-956e-08fd236b2f86",
   "metadata": {},
   "outputs": [],
   "source": [
    "import numpy as np"
   ]
  },
  {
   "cell_type": "code",
   "execution_count": null,
   "id": "f9057c36-4853-4ffd-a17f-89c6dfdf2a6c",
   "metadata": {},
   "outputs": [],
   "source": [
    "n_elements = 10000000"
   ]
  },
  {
   "cell_type": "code",
   "execution_count": null,
   "id": "6ca0d9ce-d34f-419e-ba98-46b18ce58bad",
   "metadata": {},
   "outputs": [],
   "source": [
    "%%timeit\n",
    "vals = []\n",
    "for i in range(n_elements):\n",
    "   vals.append(i**2) "
   ]
  },
  {
   "cell_type": "code",
   "execution_count": null,
   "id": "493ddb7f-c4ad-4423-8a48-5ec63c34efc5",
   "metadata": {},
   "outputs": [],
   "source": [
    "%%timeit\n",
    "vals_np = np.arange(n_elements) ** 2"
   ]
  },
  {
   "cell_type": "markdown",
   "id": "51739188-13a6-466a-a513-5604ba707ab0",
   "metadata": {},
   "source": [
    "Ovan använde vi funktion `np.arange` för att skapa en 1-dimensionell array med värden från 0 till `n_elements-1`, varefter vi kvadrerade värdena.\n",
    "Som du ser är versionen med Numpy ~90x snabbare.\n",
    "\n",
    "<div class=\"alert alert-block alert-success\">\n",
    "    <b>Uppgift: </b> Ändra värdet på n_elemets och kör om cellerna ovan. Är Numpy alltid snabbare?\n",
    "</div>\n",
    "\n",
    "#### Initiera Arrays\n",
    "Här kommer några exempel på hur man kan initiera arrays.\n",
    "\n",
    "Endast nollor (tomma):"
   ]
  },
  {
   "cell_type": "code",
   "execution_count": null,
   "id": "afba543a-b261-4e02-9cdb-b96550e870db",
   "metadata": {},
   "outputs": [],
   "source": [
    "# Endimensionell array med 50 nollor.\n",
    "np.zeros(50)"
   ]
  },
  {
   "cell_type": "code",
   "execution_count": null,
   "id": "9ff0acef-77bb-47c7-b96e-b60cf56c1c21",
   "metadata": {},
   "outputs": [],
   "source": [
    "# Tväimensionell array med 5 rader och 10 columner.\n",
    "np.zeros((5, 10))"
   ]
  },
  {
   "cell_type": "markdown",
   "id": "71eff407-e5f5-462e-8d48-d86bd2dbb6d0",
   "metadata": {},
   "source": [
    "Uppräkning:"
   ]
  },
  {
   "cell_type": "code",
   "execution_count": null,
   "id": "17df85fc-74f9-45b7-9bdc-f7ce53bda65a",
   "metadata": {},
   "outputs": [],
   "source": [
    "# Nummer mellan start och stop\n",
    "np.arange(10, 50)"
   ]
  },
  {
   "cell_type": "code",
   "execution_count": null,
   "id": "2ae93606-8b63-4e2b-afc8-3d1f8be460ee",
   "metadata": {},
   "outputs": [],
   "source": [
    "# Kan specifiera storleken på steget\n",
    "np.arange(50, 10, -5)"
   ]
  },
  {
   "cell_type": "code",
   "execution_count": null,
   "id": "5782709e-8454-46d3-839a-b5d35fcdff48",
   "metadata": {},
   "outputs": [],
   "source": [
    "# Jämnt fördelade nummer mellan start och stop\n",
    "np.linspace(10, 50)"
   ]
  },
  {
   "cell_type": "code",
   "execution_count": null,
   "id": "4092bc3e-7e1c-4256-8750-31594260e83f",
   "metadata": {},
   "outputs": [],
   "source": [
    "# Bestäm hur många nummer som ska ingå i intervallet.\n",
    "np.linspace(10, 50, 10)"
   ]
  },
  {
   "cell_type": "markdown",
   "id": "3b6508cf-f803-4cde-8664-1f1c4d7677de",
   "metadata": {},
   "source": [
    "<div class=\"alert alert-block alert-success\">\n",
    "    <b>Uppgift: </b> I en ny cell under denna, skapa en array med dimensionerna 5x5x3, fylld med 5.\n",
    "    <br>\n",
    "    <details>\n",
    "        <summary>\n",
    "        <em>Tips:</em>\n",
    "        </summary>\n",
    "        Kolla hur vi gjorde för att kvadrera talen loop-exemplet.\n",
    "    </details>\n",
    "</div>"
   ]
  },
  {
   "cell_type": "markdown",
   "id": "494a1761-8cb4-44c7-a8b9-df9e3727cfa6",
   "metadata": {},
   "source": [
    "Slumptal:"
   ]
  },
  {
   "cell_type": "code",
   "execution_count": null,
   "id": "6d31e46b-57a6-4684-9b08-12f16755a895",
   "metadata": {},
   "outputs": [],
   "source": [
    "rng = np.random.default_rng()"
   ]
  },
  {
   "cell_type": "code",
   "execution_count": null,
   "id": "5df5337c-fbe4-4816-84cd-19e8b5a4c885",
   "metadata": {},
   "outputs": [],
   "source": [
    "# Slumtal mellan 1 och 6\n",
    "rng.integers(1, 7)"
   ]
  },
  {
   "cell_type": "code",
   "execution_count": null,
   "id": "5bc22841-ede8-4fe7-9ec5-abf542cdfb12",
   "metadata": {},
   "outputs": [],
   "source": [
    "# 5 sumptal mellan 1 och 6\n",
    "rng.integers(1, 7, size=5)"
   ]
  },
  {
   "cell_type": "markdown",
   "id": "fbb9a065-5ce1-4cd4-a480-b9fa07f22f45",
   "metadata": {},
   "source": [
    "#### Array attribut och metoder\n",
    "\n",
    "En array har också en samling attribut och metoder.\n",
    "Attribut är information som till exempel storlek och viken datatyp den innehåller.\n",
    "Metoder är inbyggda funktioner som utför någon typ av beräkning."
   ]
  },
  {
   "cell_type": "code",
   "execution_count": null,
   "id": "fc4bb649-23d1-499c-be11-fb646efef273",
   "metadata": {},
   "outputs": [],
   "source": [
    "# Här skapar vi en array med 10 rader och 10 kolumner, fylld med slumptal mellan 0 och 1.\n",
    "a = rng.random(size=(10, 5))"
   ]
  },
  {
   "cell_type": "markdown",
   "id": "8b268842-8877-44db-9f65-257191853c7c",
   "metadata": {},
   "source": [
    "Storlek och datatyp:"
   ]
  },
  {
   "cell_type": "code",
   "execution_count": null,
   "id": "146473cd-4f84-488a-90a0-d47d38d45d29",
   "metadata": {},
   "outputs": [],
   "source": [
    "a.shape"
   ]
  },
  {
   "cell_type": "code",
   "execution_count": null,
   "id": "bcf1ee33-17e0-4fb2-afc3-f57d75871207",
   "metadata": {},
   "outputs": [],
   "source": [
    "a.dtype"
   ]
  },
  {
   "cell_type": "markdown",
   "id": "c3080170-3e1f-4e92-9778-69500e9f2222",
   "metadata": {},
   "source": [
    "Exempel på metoder:"
   ]
  },
  {
   "cell_type": "code",
   "execution_count": null,
   "id": "8ac8cd2c-9983-4eb6-ba18-e327025f1e1a",
   "metadata": {},
   "outputs": [],
   "source": [
    "# Minsta värdet.\n",
    "a.min()"
   ]
  },
  {
   "cell_type": "code",
   "execution_count": null,
   "id": "4a98e98c-1655-4761-9f6f-33e51f52f823",
   "metadata": {},
   "outputs": [],
   "source": [
    "# Minsta värdet, per kolumn.\n",
    "a.min(axis=0)"
   ]
  },
  {
   "cell_type": "code",
   "execution_count": null,
   "id": "4a36f1f2-2367-4ae3-afa0-f6160e95c432",
   "metadata": {},
   "outputs": [],
   "source": [
    "# Medelvärdet, per rad\n",
    "a.mean(axis=1)"
   ]
  },
  {
   "cell_type": "code",
   "execution_count": null,
   "id": "98dad5ae-918a-4426-8561-f826973fe30d",
   "metadata": {},
   "outputs": [],
   "source": [
    "# Totala summan\n",
    "a.sum()"
   ]
  },
  {
   "cell_type": "markdown",
   "id": "bf52412d-1953-4421-be81-7f218ea80046",
   "metadata": {},
   "source": [
    "Det går också att omforma en array med `.reshape()`"
   ]
  },
  {
   "cell_type": "code",
   "execution_count": null,
   "id": "f024c5fb-8307-41de-927d-e19ba3d44762",
   "metadata": {},
   "outputs": [],
   "source": [
    "# Vi vill ha 2 rader istället. -1 indikerar att metoden ska bestämma automatiskt hur många kolumner som behövs\n",
    "b = a.reshape((2, -1))"
   ]
  },
  {
   "cell_type": "code",
   "execution_count": null,
   "id": "9d1c0e04-2e68-4a21-8554-82041b867084",
   "metadata": {},
   "outputs": [],
   "source": [
    "b.shape"
   ]
  },
  {
   "cell_type": "markdown",
   "id": "391f2656-b876-4d3b-a0ed-c515b17e67c8",
   "metadata": {},
   "source": [
    "<div class=\"alert alert-block alert-info\">\n",
    "<b>Info: </b> Kom ihåg att du alltid kan läsa signaturen för en metod Shift+Tab, precis som för en funktion.\n",
    "</div>\n",
    "\n",
    "#### Operationer\n",
    "Matematiska operationer utförs per element "
   ]
  },
  {
   "cell_type": "code",
   "execution_count": null,
   "id": "5b2ceafe-db3d-4f00-bc1b-fa87b6a3ce4c",
   "metadata": {},
   "outputs": [],
   "source": [
    "a = np.zeros((5, 5)) + 5"
   ]
  },
  {
   "cell_type": "code",
   "execution_count": null,
   "id": "6ae2171d-931b-4eb1-8f31-b658b0336817",
   "metadata": {},
   "outputs": [],
   "source": [
    "a + a"
   ]
  },
  {
   "cell_type": "code",
   "execution_count": null,
   "id": "2b718036-273b-49b4-9310-e1ffaf819ef9",
   "metadata": {},
   "outputs": [],
   "source": [
    "a / a"
   ]
  },
  {
   "cell_type": "code",
   "execution_count": null,
   "id": "25444949-7827-4ae8-934a-f656878527a3",
   "metadata": {},
   "outputs": [],
   "source": [
    "a * a"
   ]
  },
  {
   "cell_type": "markdown",
   "id": "e7c03fb0-1ad9-48f4-836f-9c55f206b0f1",
   "metadata": {
    "jp-MarkdownHeadingCollapsed": true
   },
   "source": [
    "#### Broadcasting\n",
    "När vi I ett tidigare exempel multiplicerade vi en array med ett värde resulterade de i att alla värden ändrades.\n",
    "Hur vet Numpy om att vi ville att alla värden skulle ändras?\n",
    "I Numpy kallas detta för **broadcasting**.\n",
    "\n",
    "Broadcasting gör det möjligt att utföra operationer mellan två arrays av olika storlek.\n",
    "**Men**, storleken (eller formen) på de två array-objekten måste vara kompatibla.\n",
    "Specifikt innebär detta att storleken ska vara samma, eller att en av dimensionerna ska vara lika med ett.\n",
    "\n",
    "\n",
    "<figure>\n",
    "<img src=\"./media/broadcasting.svg\" width=\"500\">\n",
    "</figure>\n",
    "\n",
    "<div class=\"alert alert-block alert-success\">\n",
    "    <b>Uppgift: </b> Skapa en array med värdena 1 till 5, och formen (5, 1) och multiplicera med a. Lägg till så många nya celler du behöver.\n",
    "</div>"
   ]
  },
  {
   "cell_type": "markdown",
   "id": "e249d87e-5b38-4348-b3d1-7e9886f4b9a7",
   "metadata": {},
   "source": [
    "#### Indexering och fler funktioner \n",
    "Likt listorna vi tittade på tidigare kan vi indexera arrays"
   ]
  },
  {
   "cell_type": "code",
   "execution_count": null,
   "id": "e048c8f6-d401-4c04-977a-949309d1d3e2",
   "metadata": {},
   "outputs": [],
   "source": [
    "# Väljer ut en rad\n",
    "a[4]"
   ]
  },
  {
   "cell_type": "code",
   "execution_count": null,
   "id": "6490d5d4-9eca-4722-99b6-e35412688fcf",
   "metadata": {},
   "outputs": [],
   "source": [
    "# Väljer ut en kolumn\n",
    "a[:,2]"
   ]
  },
  {
   "cell_type": "code",
   "execution_count": null,
   "id": "db24be3f-cc87-4210-ace1-723e232321d6",
   "metadata": {},
   "outputs": [],
   "source": [
    "# Väljer ut ett specifikt värde\n",
    "a[1,2]"
   ]
  },
  {
   "cell_type": "markdown",
   "id": "834ab956-e147-4339-bea4-5fb976c6cff1",
   "metadata": {},
   "source": [
    "Det går också att kombinera enskilda index med \"slicing\".\n",
    "Nedan väljer vi ut andra och tredje raden, fjärde kolumnen"
   ]
  },
  {
   "cell_type": "code",
   "execution_count": null,
   "id": "b04deecd-052d-4729-8b5a-051ab9fcf105",
   "metadata": {},
   "outputs": [],
   "source": [
    "# Notera att en slice inte inkluderar den övre gränsen.\n",
    "a[1:3, 3]"
   ]
  },
  {
   "cell_type": "markdown",
   "id": "f14e54e8-ca88-4db8-9f23-f2f58545b93e",
   "metadata": {},
   "source": [
    "Det går att ändra värden i en array genom indexering:"
   ]
  },
  {
   "cell_type": "code",
   "execution_count": null,
   "id": "0d6106f6-233e-4a6c-987d-4c49132fd816",
   "metadata": {},
   "outputs": [],
   "source": [
    "a[2, 2] = 99"
   ]
  },
  {
   "cell_type": "code",
   "execution_count": null,
   "id": "27c51128-8527-49c0-a66d-071ec0dfc02f",
   "metadata": {},
   "outputs": [],
   "source": [
    "a"
   ]
  },
  {
   "cell_type": "markdown",
   "id": "b4c6a0d2-b5d3-43c0-819a-8bd8c6a461fc",
   "metadata": {},
   "source": [
    "<div class=\"alert alert-block alert-success\">\n",
    "   <b>Uppgift: </b>Ändra alla värden i tredje kolumnen till 99 med hjälp av en slice.\n",
    "</div>"
   ]
  },
  {
   "cell_type": "markdown",
   "id": "69eb942f-967d-40f5-a6ff-a1358451598e",
   "metadata": {},
   "source": [
    "### Matplotlib"
   ]
  }
 ],
 "metadata": {
  "kernelspec": {
   "display_name": "Python 3 (ipykernel)",
   "language": "python",
   "name": "python3"
  },
  "language_info": {
   "codemirror_mode": {
    "name": "ipython",
    "version": 3
   },
   "file_extension": ".py",
   "mimetype": "text/x-python",
   "name": "python",
   "nbconvert_exporter": "python",
   "pygments_lexer": "ipython3",
   "version": "3.10.13"
  }
 },
 "nbformat": 4,
 "nbformat_minor": 5
}
