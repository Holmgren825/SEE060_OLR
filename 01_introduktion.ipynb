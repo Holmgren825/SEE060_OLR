{
 "cells": [
  {
   "cell_type": "markdown",
   "id": "bb065893-8f03-41f4-802f-d7d254fd7407",
   "metadata": {},
   "source": [
    "# Introduktion till Python SEE060"
   ]
  },
  {
   "cell_type": "markdown",
   "id": "c1a37117-35ba-40b1-bc11-5be3a3fc421d",
   "metadata": {
    "editable": true,
    "slideshow": {
     "slide_type": ""
    },
    "tags": []
   },
   "source": [
    "Målet med den här notebooken är att ni ska få en introduktion till delar av Python och dess ekosystem som kommer vara användbara när ni arbetar med inlämningsuppgift 2: Utgående långvågig strålning (OLR).\n",
    "\n",
    "Först och främst, det ni läser just nu är en så kallad [Jupyter Notebook](https://jupyter.org/).\n",
    "Det är ett interaktivt dokument där det går att blanda text, bilder och kod-celler.\n",
    "Dessa notebooks visas och redigeras oftast i ett program som heter JupyterLab.\n",
    "JupyterLab kan köras på din egen dator eller på en server någonstans i världen, men oavsett används en webbläsare för att komma åt det grafiska gränssnittet (Det du tittar på nu).\n",
    "\n",
    "Detta betyder att JupyterLab fungerar till mångt och mycket som vilket program som helst på din dator.\n",
    "Skapar du till exempel en ny fil via `File` i menyraden ovan kommer det skapas en ny fil i mappen där du startade programmet.\n",
    "\n",
    "Klickar du på mapp-symbolen (📁) i sidomenyn till vänster öppnas en panel som ger dig en överblick över vilka filer och mappar som finns i den nuvarande mappen.\n",
    "Panelen fungerar som de flesta filhanterare: dubbelklicka för att öppna en mapp eller fil, enkelklicka för att markera, eller högerklicka för att öppna en meny för att kopiera osv.\n",
    "Högerklickar du utan att ha markerat en fil eller mapp öppnas en meny där du kan skapa en ny fil, en ny notebook eller en ny mapp.\n",
    "\n",
    "<div class=\"alert alert-block alert-warning\">\n",
    "<b>Varning: </b>I fallet att du följt länken på Canvas körs den här notebooken på något som heter <a href=https://mybinder.org/>MyBinder</a>, vilket innebär att JupyterLab körs på en server någonstans i molnet. Det är väldigt smidigt för att komma igång med Jupyter, men <b>ingenting sparas</b> och programmet stängs av efter en stunds inaktivitet.\n",
    "Alltså måste du ladda ner filerna till din egen dator för att spara dem (Högerklicka på filen i filhanteraren -> Download)\n",
    "</div>\n",
    "\n",
    "\n"
   ]
  },
  {
   "cell_type": "markdown",
   "id": "979e0d96-3a28-4c8c-92b3-d33543a4c511",
   "metadata": {},
   "source": [
    "JupyterLab är som sagt ett program för att visa och redigera Jupyter Notebooks.\n",
    "En notebook består av en samling celler, där cellen kan innehålla text (i form av [Markdown](https://www.markdownguide.org/)) eller exekverbar kod.\n",
    "Det här är till exempel en markdown-cell: det kan du se genom att titta i menyn ovan.\n",
    "I samma meny kan du också ändra celltyp [Code, Markdown, Raw].\n",
    "I "
   ]
  },
  {
   "cell_type": "code",
   "execution_count": null,
   "id": "e9266b8b-9291-4192-968b-3d5c01f6df65",
   "metadata": {},
   "outputs": [],
   "source": []
  }
 ],
 "metadata": {
  "kernelspec": {
   "display_name": "Python 3 (ipykernel)",
   "language": "python",
   "name": "python3"
  },
  "language_info": {
   "codemirror_mode": {
    "name": "ipython",
    "version": 3
   },
   "file_extension": ".py",
   "mimetype": "text/x-python",
   "name": "python",
   "nbconvert_exporter": "python",
   "pygments_lexer": "ipython3",
   "version": "3.10.13"
  }
 },
 "nbformat": 4,
 "nbformat_minor": 5
}
