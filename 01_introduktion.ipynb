{
 "cells": [
  {
   "cell_type": "markdown",
   "id": "bb065893-8f03-41f4-802f-d7d254fd7407",
   "metadata": {},
   "source": [
    "# Introduktion till Python SEE060"
   ]
  },
  {
   "cell_type": "markdown",
   "id": "c1a37117-35ba-40b1-bc11-5be3a3fc421d",
   "metadata": {
    "editable": true,
    "slideshow": {
     "slide_type": ""
    },
    "tags": []
   },
   "source": [
    "Målet med den här notebooken är att ni ska få en introduktion till delar av Python och dess ekosystem som kommer vara användbara när ni arbetar med inlämningsuppgift 2: Utgående långvågig strålning (OLR).\n",
    "\n",
    "Först och främst, det ni läser just nu är en så kallad [Jupyter Notebook](https://jupyter.org/).\n",
    "Det är ett interaktivt dokument där det går att blanda text, bilder och kod-celler.\n",
    "Dessa notebooks visas och redigeras oftast i ett program som heter JupyterLab.\n",
    "JupyterLab kan köras på din egen dator eller på en server någonstans i molnet, men oavsett används en webbläsare för att komma åt det grafiska gränssnittet (det du tittar på nu).\n",
    "\n",
    "Detta betyder att JupyterLab fungerar till mångt och mycket som vilket program som helst på din dator.\n",
    "Skapar du till exempel en ny fil via `File` i menyraden ovan kommer det skapas en ny fil i mappen där du startade programmet.\n",
    "\n",
    "Klickar du på mapp-symbolen (📁) i sidomenyn till vänster öppnas en panel som ger dig en överblick över vilka filer och mappar som finns i den nuvarande mappen.\n",
    "Panelen fungerar som de flesta filhanterare: dubbelklicka för att öppna en mapp eller fil, enkelklicka för att markera, eller högerklicka för att öppna en meny för att kopiera osv.\n",
    "Högerklickar du utan att ha markerat en fil eller mapp öppnas en meny där du kan skapa en ny fil, en ny notebook eller en ny mapp. För en genomgång av gränsnittet klicka på `Help -> Welcome Tour`\n",
    "\n",
    "<div class=\"alert alert-block alert-warning\">\n",
    "<b>Varning: </b>I fallet att du följt länken på Canvas körs den här notebooken på något som heter <a href=https://mybinder.org/>MyBinder</a>, vilket innebär att JupyterLab körs på en server någonstans i molnet. Det är väldigt smidigt för att komma igång med Python och Jupyter, men <b>ingenting sparas</b> och programmet stängs av efter en stunds inaktivitet.\n",
    "Alltså måste du ladda ner filerna till din egen dator för att spara dem (högerklicka på filen i filhanteraren -> Download)\n",
    "<br>\n",
    "<br>\n",
    "Alternativt kan du installera Python och JupyterLab på din egen dator.\n",
    "</div>\n"
   ]
  },
  {
   "cell_type": "markdown",
   "id": "979e0d96-3a28-4c8c-92b3-d33543a4c511",
   "metadata": {},
   "source": [
    "JupyterLab är som sagt ett program för att visa och redigera Jupyter Notebooks.\n",
    "För en första genomgång av notebooks, klicka på `Help -> Notebook Tour`.\n",
    "\n",
    "En notebook består alltså av en samling celler, där cellen kan innehålla text (i form av [Markdown](https://www.markdownguide.org/cheat-sheet/), följ länken för ett cheat-sheet) eller exekverbar kod: Jupyter har stöd för många olika programmeringsspråk, men vi kommer att fokusera på Python.\n",
    "Det här är en markdown-cell, dubbelklickar du på den ser du hur \"koden\" ser ut.\n",
    "Trycker du på `Shift+Enter` på tangentbordet, eller play-knappen i menyn ovan exekveras (körs) cellen igen."
   ]
  },
  {
   "cell_type": "markdown",
   "id": "fb9efea7-5bc3-496c-8e91-95b5755f948d",
   "metadata": {
    "editable": true,
    "slideshow": {
     "slide_type": ""
    },
    "tags": []
   },
   "source": [
    "Nedan är ett exempel på en kod-cell med lite Python-kod.\n",
    "Markera cellen och kör den för att se vad som skrivs ut.\n",
    "\n",
    "<div class=\"alert alert-block alert-info\">\n",
    "<b>Info: </b>All Python-kod som skrivs i en kod-cell kan också skrivas in en Python-fil (.py) och sedan exekveras i terminalen.\n",
    "</div>"
   ]
  },
  {
   "cell_type": "code",
   "execution_count": null,
   "id": "e9266b8b-9291-4192-968b-3d5c01f6df65",
   "metadata": {
    "editable": true,
    "slideshow": {
     "slide_type": ""
    },
    "tags": []
   },
   "outputs": [],
   "source": [
    "print(\"Hello, World!\")"
   ]
  },
  {
   "cell_type": "markdown",
   "id": "327dba62-2047-4259-9c0a-bea02818dc62",
   "metadata": {},
   "source": [
    "I fortsättningen antas det att du kör alla kod-celler.\n",
    "\n",
    "\n",
    "<div class=\"alert alert-block alert-info\">\n",
    "<b>Info: </b>Det är lätt hänt att råka exekvera en cell som tar för lång tid att köra, eller som kanske aldrig blir klar.\n",
    "    Du kan avbryta en exekvering genom att i menyn ovan trycka på <b>Kernel -> Interrupt Kernel</b>, eller i värsta fall <b>Kernel -> Restart Kernel</b>.\n",
    "    Det senare alternativet startar om hela notebooken och du måste köra om alla celler från början för att fortsätta ditt arbete.\n",
    "</div>"
   ]
  },
  {
   "cell_type": "markdown",
   "id": "bcecc002-4ad1-4e9c-b640-0357b75c9485",
   "metadata": {},
   "source": [
    "## Nästa steg\n",
    "\n",
    "Klicka på Nästa nere till höger för att gå vidare i övningen.\n",
    "\n",
    "<div style=\"width: 100%;\">\n",
    "    <div style=\"text-align: right\"> \n",
    "        <a href=\"02_python.ipynb\">Nästa (Python) »</a>\n",
    "    </div>\n",
    "</div>"
   ]
  }
 ],
 "metadata": {
  "kernelspec": {
   "display_name": "Python 3 (ipykernel)",
   "language": "python",
   "name": "python3"
  },
  "language_info": {
   "codemirror_mode": {
    "name": "ipython",
    "version": 3
   },
   "file_extension": ".py",
   "mimetype": "text/x-python",
   "name": "python",
   "nbconvert_exporter": "python",
   "pygments_lexer": "ipython3",
   "version": "3.11.8"
  }
 },
 "nbformat": 4,
 "nbformat_minor": 5
}
