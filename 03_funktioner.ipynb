{
 "cells": [
  {
   "cell_type": "markdown",
   "id": "bb065893-8f03-41f4-802f-d7d254fd7407",
   "metadata": {},
   "source": [
    "# Funktioner"
   ]
  },
  {
   "cell_type": "markdown",
   "id": "14b776cc-5fda-4004-9a9b-e5177740e63f",
   "metadata": {},
   "source": [
    "Funktioner är användbara för att göra det lätt att t.ex. återanvända kod.\n",
    "De gör även koden mer *modulär*, eftersom koden lättare kan delas upp i olika oberoende delar.\n",
    "Detta gör det lättare att testa koden och hitta eventuella fel.\n",
    "\n",
    "Du kan definiera egna funktioner som sedan är tillgängliga globalt (alltså i alla följande kod-celler): "
   ]
  },
  {
   "cell_type": "code",
   "execution_count": null,
   "id": "dfa3fcc8-1162-4781-8522-57e5e863124a",
   "metadata": {},
   "outputs": [],
   "source": [
    "def min_funktion():\n",
    "    print(\"Hello, World!\")"
   ]
  },
  {
   "cell_type": "markdown",
   "id": "c48377ef-07f6-4968-86cf-c440b204f9ce",
   "metadata": {},
   "source": [
    "Koden i funktionen är *indenterad* med mellanslag.\n",
    "Antalet mellanslag spelar ingen roll, men standard är 4.\n",
    "Du kan lägga till en indentation med `Tab` och ta bort med `Backspace` (`Backsteg`).\n",
    "\n",
    "Notera att koden i funktionen inte körs när du definerar funktionen med `def`.\n",
    "För att köra den måste du *kalla på* funktionen med `()`:"
   ]
  },
  {
   "cell_type": "code",
   "execution_count": null,
   "id": "3eaf546b-bcd0-4696-b96b-07ae51e1674f",
   "metadata": {},
   "outputs": [],
   "source": [
    "min_funktion()"
   ]
  },
  {
   "cell_type": "markdown",
   "id": "b5236d80-052b-4989-ac29-6fca286791ed",
   "metadata": {},
   "source": [
    "En funktion kan definieras att ta emot ett eller flera argument.\n",
    "Nedan specificerar vi att `min_funktion` ska ta emot argumenten `namn` och `n_iterationer`.\n",
    "Argumenten är sedan tillgängliga som variabler inom funktionen."
   ]
  },
  {
   "cell_type": "code",
   "execution_count": null,
   "id": "b618cc5e-5949-479f-96ac-c4531a4fb174",
   "metadata": {},
   "outputs": [],
   "source": [
    "def min_funktion(namn, n_iterationer):\n",
    "    for i in range(n_iterationer):\n",
    "        print(f\"Hej {namn}\")"
   ]
  },
  {
   "cell_type": "markdown",
   "id": "90dc0c18-4618-44ec-bfe0-1994c198a810",
   "metadata": {},
   "source": [
    "Kallar vi på funktionen utan några argument får vi ett fel som säger åt oss att det saknas argument:"
   ]
  },
  {
   "cell_type": "code",
   "execution_count": null,
   "id": "f15f21ad-f0cf-4d3e-a4ac-a1796d5dc702",
   "metadata": {},
   "outputs": [],
   "source": [
    "min_funktion()"
   ]
  },
  {
   "cell_type": "markdown",
   "id": "7971d1de-9eeb-466b-b509-a904bfebdfec",
   "metadata": {},
   "source": [
    "Ett korrekt funktionsanrop kan istället se ut såhär"
   ]
  },
  {
   "cell_type": "code",
   "execution_count": null,
   "id": "8ca00d94-8f89-449e-a90d-cb6d8e3cb31b",
   "metadata": {},
   "outputs": [],
   "source": [
    "min_funktion(\"Pelle\", 5)"
   ]
  },
  {
   "cell_type": "markdown",
   "id": "c0f50647-564b-4d6f-a01f-0fe1bffdd319",
   "metadata": {},
   "source": [
    "eller såhär"
   ]
  },
  {
   "cell_type": "code",
   "execution_count": null,
   "id": "e3e94a28-5c2a-4561-a74d-54c25ad81591",
   "metadata": {},
   "outputs": [],
   "source": [
    "# Här skapar vi två variabler som vi sedan skickar som argument till funktionen.\n",
    "argument1 = \"Pelle\"\n",
    "antal_iterationer = 5"
   ]
  },
  {
   "cell_type": "code",
   "execution_count": null,
   "id": "c6438ea0-6609-486f-82b1-4d92ee18406c",
   "metadata": {},
   "outputs": [],
   "source": [
    "min_funktion(argument1, antal_iterationer)"
   ]
  },
  {
   "cell_type": "markdown",
   "id": "d0e37b0c-9b26-4341-95ba-5060552be543",
   "metadata": {},
   "source": [
    "Hur kommer det sig att vi kallar på funktionen som\n",
    "\n",
    "```\n",
    "min_funktion(argument1, antal_iterationer)\n",
    "```\n",
    "\n",
    "istället för \n",
    "\n",
    "```\n",
    "min_funktion(namn, n_iterationer)\n",
    "```\n",
    "\n",
    "?\n",
    "\n",
    "Jo, `argument1` och `antal_iterationer` är variabler som vi har definerat ovan, så i det här fallet är det är samma som om vi hade skrivit\n",
    "\n",
    "```\n",
    "min_funktion(Pelle, 5)\n",
    "```\n",
    "\n",
    "`namn` och `n_iterationer` är variabler som existerar **inuti** funktionen och kan användas i funktionskoden, men i det här fallet är de inte definerade utanför funktionen.\n",
    "I vissa fall kan det hända att variabelnamnen råkar vara samma i definitionen av funktionen och när funktionen kallas.\n",
    "Men det måste alltså inte vara så."
   ]
  },
  {
   "cell_type": "markdown",
   "id": "d50fe39c-d30d-4ede-8e97-c870345c31dd",
   "metadata": {},
   "source": [
    "<div class=\"alert alert-block alert-success\">\n",
    "    <b>Uppgift:</b> Testa att köra koden: <tt>min_funktion(namn, n_iterationer)</tt>. Vad händer då?\n",
    "</div>"
   ]
  },
  {
   "cell_type": "markdown",
   "id": "9f65bbf6-4887-4b8d-a5eb-478a243ec0c0",
   "metadata": {},
   "source": [
    "<div class=\"alert alert-block alert-info\">\n",
    "    <b>Info: </b>Notera att funktionen inte kontrollerar att argumenten är av den typ vi eventuellt förväntade oss när vi skrev funktionen.\n",
    "    Detta är en av styrkorna, men också svagheterna med Python.\n",
    "    <br>\n",
    "    Alltså är följande anrop möjliga, och det är användaren som får lista ut vad som gått fel:\n",
    "</div>"
   ]
  },
  {
   "cell_type": "code",
   "execution_count": null,
   "id": "b580c699-7300-478d-8d0f-50e112e4cce4",
   "metadata": {},
   "outputs": [],
   "source": [
    "min_funktion(5, 2)"
   ]
  },
  {
   "cell_type": "code",
   "execution_count": null,
   "id": "cfaa6a81-2ecf-4477-8522-ce29b44e23f0",
   "metadata": {},
   "outputs": [],
   "source": [
    "min_funktion(5, \"Pelle\")"
   ]
  },
  {
   "cell_type": "code",
   "execution_count": null,
   "id": "729e9c99-e77d-466a-8948-e3593e3efb57",
   "metadata": {},
   "outputs": [],
   "source": [
    "min_funktion(\"Pelle\", [5])"
   ]
  },
  {
   "cell_type": "markdown",
   "id": "8ea71c73-b455-4ec3-84dd-ce7069c10d61",
   "metadata": {},
   "source": [
    "Att direkt skriva ut resultatet av en funktion blir snabbt väldigt klumpigt.\n",
    "Funktioner är mer användbara när de **returnerar** ett resultat, och vi kan spara, eller tilldela, det till en variabel som vi sedan kan använda i följande steg av programmet eller analysen.\n",
    "I en funktion returnerar man ett resultat genom nyckelordet (keyword) `return` följt av variabeln eller uttrycket som ska returneras."
   ]
  },
  {
   "cell_type": "code",
   "execution_count": null,
   "id": "15d1895e-61e6-405b-a46b-f63355d9c126",
   "metadata": {},
   "outputs": [],
   "source": [
    "def lagg_till_ett(ett_tal):\n",
    "    ett_tal = ett_tal + 1\n",
    "    return ett_tal"
   ]
  },
  {
   "cell_type": "code",
   "execution_count": null,
   "id": "ef8817e1-49e4-4fb2-8377-7b2f5e43113c",
   "metadata": {},
   "outputs": [],
   "source": [
    "resultat = lagg_till_ett(2)"
   ]
  },
  {
   "cell_type": "code",
   "execution_count": null,
   "id": "6311fd6f-db9d-4d83-b8e3-4d31b4e025bf",
   "metadata": {},
   "outputs": [],
   "source": [
    "resultat"
   ]
  },
  {
   "cell_type": "markdown",
   "id": "3c1258d9-8b63-49ee-bd43-1b0c4eb8ff38",
   "metadata": {},
   "source": [
    "<div class=\"alert alert-block alert-success\">\n",
    "    <b>Uppgift: </b>Skapa en funktion som returnerar volymen av en kub. Funktionen ska acceptera tre argument: width, height, depth.\n",
    "    Lägg till så många celler under du behöver, och kom ihåg att testa funktionen.\n",
    "</div>"
   ]
  },
  {
   "cell_type": "markdown",
   "id": "bcecc002-4ad1-4e9c-b640-0357b75c9485",
   "metadata": {},
   "source": [
    "## Nästa steg\n",
    "\n",
    "Nästa del handlar om hur vi utöka Pythons funktionalitet med hjälp av olika bibliotek.\n",
    "\n",
    "<div style=\"width: 100%;\">\n",
    "    <div style=\"float: left\"> \n",
    "        <a href=\"02_python.ipynb\">« Föregående (Python)</a>         \n",
    "    </div>\n",
    "    <div style=\"text-align: right\"> \n",
    "        <a href=\"04_bibliotek.ipynb\">Nästa (Bibliotek) »</a>\n",
    "    </div>\n",
    "</div>"
   ]
  }
 ],
 "metadata": {
  "kernelspec": {
   "display_name": "Python 3 (ipykernel)",
   "language": "python",
   "name": "python3"
  },
  "language_info": {
   "codemirror_mode": {
    "name": "ipython",
    "version": 3
   },
   "file_extension": ".py",
   "mimetype": "text/x-python",
   "name": "python",
   "nbconvert_exporter": "python",
   "pygments_lexer": "ipython3",
   "version": "3.11.8"
  }
 },
 "nbformat": 4,
 "nbformat_minor": 5
}
